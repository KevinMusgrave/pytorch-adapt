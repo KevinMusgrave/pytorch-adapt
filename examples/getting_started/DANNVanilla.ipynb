{
  "cells": [
    {
      "cell_type": "markdown",
      "id": "00224e65",
      "metadata": {
        "id": "00224e65"
      },
      "source": [
        "### Install package"
      ]
    },
    {
      "cell_type": "code",
      "execution_count": 1,
      "id": "cdd72d61",
      "metadata": {
        "id": "cdd72d61",
        "outputId": "01566e4c-1504-41f5-b1fa-36f472a77f05",
        "colab": {
          "base_uri": "https://localhost:8080/"
        }
      },
      "outputs": [
        {
          "output_type": "stream",
          "name": "stdout",
          "text": [
            "Collecting pytorch-adapt\n",
            "  Downloading pytorch_adapt-0.0.61-py3-none-any.whl (137 kB)\n",
            "\u001b[?25l\r\u001b[K     |██▍                             | 10 kB 22.7 MB/s eta 0:00:01\r\u001b[K     |████▊                           | 20 kB 29.0 MB/s eta 0:00:01\r\u001b[K     |███████▏                        | 30 kB 13.6 MB/s eta 0:00:01\r\u001b[K     |█████████▌                      | 40 kB 10.4 MB/s eta 0:00:01\r\u001b[K     |████████████                    | 51 kB 8.0 MB/s eta 0:00:01\r\u001b[K     |██████████████▎                 | 61 kB 9.4 MB/s eta 0:00:01\r\u001b[K     |████████████████▊               | 71 kB 9.5 MB/s eta 0:00:01\r\u001b[K     |███████████████████             | 81 kB 7.8 MB/s eta 0:00:01\r\u001b[K     |█████████████████████▍          | 92 kB 8.6 MB/s eta 0:00:01\r\u001b[K     |███████████████████████▉        | 102 kB 8.9 MB/s eta 0:00:01\r\u001b[K     |██████████████████████████▏     | 112 kB 8.9 MB/s eta 0:00:01\r\u001b[K     |████████████████████████████▋   | 122 kB 8.9 MB/s eta 0:00:01\r\u001b[K     |███████████████████████████████ | 133 kB 8.9 MB/s eta 0:00:01\r\u001b[K     |████████████████████████████████| 137 kB 8.9 MB/s \n",
            "\u001b[?25hRequirement already satisfied: torchvision in /usr/local/lib/python3.7/dist-packages (from pytorch-adapt) (0.11.1+cu111)\n",
            "Collecting pytorch-metric-learning>=1.1.0\n",
            "  Downloading pytorch_metric_learning-1.2.0-py3-none-any.whl (107 kB)\n",
            "\u001b[K     |████████████████████████████████| 107 kB 44.1 MB/s \n",
            "\u001b[?25hCollecting torchmetrics\n",
            "  Downloading torchmetrics-0.7.2-py3-none-any.whl (397 kB)\n",
            "\u001b[K     |████████████████████████████████| 397 kB 43.8 MB/s \n",
            "\u001b[?25hRequirement already satisfied: torch in /usr/local/lib/python3.7/dist-packages (from pytorch-adapt) (1.10.0+cu111)\n",
            "Requirement already satisfied: numpy in /usr/local/lib/python3.7/dist-packages (from pytorch-adapt) (1.21.5)\n",
            "Requirement already satisfied: tqdm in /usr/local/lib/python3.7/dist-packages (from pytorch-metric-learning>=1.1.0->pytorch-adapt) (4.62.3)\n",
            "Requirement already satisfied: scikit-learn in /usr/local/lib/python3.7/dist-packages (from pytorch-metric-learning>=1.1.0->pytorch-adapt) (1.0.2)\n",
            "Requirement already satisfied: typing-extensions in /usr/local/lib/python3.7/dist-packages (from torch->pytorch-adapt) (3.10.0.2)\n",
            "Requirement already satisfied: threadpoolctl>=2.0.0 in /usr/local/lib/python3.7/dist-packages (from scikit-learn->pytorch-metric-learning>=1.1.0->pytorch-adapt) (3.1.0)\n",
            "Requirement already satisfied: scipy>=1.1.0 in /usr/local/lib/python3.7/dist-packages (from scikit-learn->pytorch-metric-learning>=1.1.0->pytorch-adapt) (1.4.1)\n",
            "Requirement already satisfied: joblib>=0.11 in /usr/local/lib/python3.7/dist-packages (from scikit-learn->pytorch-metric-learning>=1.1.0->pytorch-adapt) (1.1.0)\n",
            "Requirement already satisfied: packaging in /usr/local/lib/python3.7/dist-packages (from torchmetrics->pytorch-adapt) (21.3)\n",
            "Collecting pyDeprecate==0.3.*\n",
            "  Downloading pyDeprecate-0.3.2-py3-none-any.whl (10 kB)\n",
            "Requirement already satisfied: pyparsing!=3.0.5,>=2.0.2 in /usr/local/lib/python3.7/dist-packages (from packaging->torchmetrics->pytorch-adapt) (3.0.7)\n",
            "Requirement already satisfied: pillow!=8.3.0,>=5.3.0 in /usr/local/lib/python3.7/dist-packages (from torchvision->pytorch-adapt) (7.1.2)\n",
            "Installing collected packages: pyDeprecate, torchmetrics, pytorch-metric-learning, pytorch-adapt\n",
            "Successfully installed pyDeprecate-0.3.2 pytorch-adapt-0.0.61 pytorch-metric-learning-1.2.0 torchmetrics-0.7.2\n"
          ]
        }
      ],
      "source": [
        "!pip install pytorch-adapt"
      ]
    },
    {
      "cell_type": "markdown",
      "id": "08cad7f4",
      "metadata": {
        "id": "08cad7f4"
      },
      "source": [
        "### Import packages"
      ]
    },
    {
      "cell_type": "code",
      "execution_count": 6,
      "id": "ae8bd4d9",
      "metadata": {
        "id": "ae8bd4d9"
      },
      "outputs": [],
      "source": [
        "import torch\n",
        "from tqdm import tqdm\n",
        "\n",
        "from pytorch_adapt.containers import Models, Optimizers\n",
        "from pytorch_adapt.datasets import DataloaderCreator, get_mnist_mnistm\n",
        "from pytorch_adapt.hooks import DANNHook\n",
        "from pytorch_adapt.models import Discriminator, mnistC, mnistG\n",
        "from pytorch_adapt.utils.common_functions import batch_to_device\n",
        "from pytorch_adapt.validators import IMValidator"
      ]
    },
    {
      "cell_type": "markdown",
      "id": "7a230884",
      "metadata": {
        "id": "7a230884"
      },
      "source": [
        "### Create datasets and dataloaders"
      ]
    },
    {
      "cell_type": "code",
      "execution_count": 7,
      "id": "9bca7bd9",
      "metadata": {
        "id": "9bca7bd9"
      },
      "outputs": [],
      "source": [
        "datasets = get_mnist_mnistm([\"mnist\"], [\"mnistm\"], folder=\".\", download=True)\n",
        "dc = DataloaderCreator(batch_size=32, num_workers=2)\n",
        "dataloaders = dc(**datasets)"
      ]
    },
    {
      "cell_type": "markdown",
      "id": "1d9f26b9",
      "metadata": {
        "id": "1d9f26b9"
      },
      "source": [
        "### Create models, optimizers, hook, and validator"
      ]
    },
    {
      "cell_type": "code",
      "execution_count": 8,
      "id": "b5313ca5",
      "metadata": {
        "id": "b5313ca5"
      },
      "outputs": [],
      "source": [
        "device = torch.device(\"cuda\")\n",
        "\n",
        "G = mnistG(pretrained=True).to(device)\n",
        "C = mnistC(pretrained=True).to(device)\n",
        "D = Discriminator(in_size=1200, h=256).to(device)\n",
        "models = Models({\"G\": G, \"C\": C, \"D\": D})\n",
        "optimizers = Optimizers((torch.optim.Adam, {\"lr\": 0.0001}))\n",
        "optimizers.create_with(models)\n",
        "optimizers = list(optimizers.values())\n",
        "\n",
        "hook = DANNHook(optimizers)\n",
        "validator = IMValidator()"
      ]
    },
    {
      "cell_type": "markdown",
      "id": "7e785496",
      "metadata": {
        "id": "7e785496"
      },
      "source": [
        "### Train and evaluate"
      ]
    },
    {
      "cell_type": "code",
      "execution_count": 9,
      "id": "58b27d15",
      "metadata": {
        "id": "58b27d15",
        "outputId": "beb3d57a-e28d-4b86-c4fc-1beed9cfdfde",
        "colab": {
          "base_uri": "https://localhost:8080/"
        }
      },
      "outputs": [
        {
          "output_type": "stream",
          "name": "stderr",
          "text": [
            "100%|██████████| 1843/1843 [00:51<00:00, 35.98it/s]\n",
            "100%|██████████| 1844/1844 [00:21<00:00, 86.78it/s]\n"
          ]
        },
        {
          "output_type": "stream",
          "name": "stdout",
          "text": [
            "\n",
            "Epoch 0 score = 1.1073559522628784\n",
            "\n"
          ]
        },
        {
          "output_type": "stream",
          "name": "stderr",
          "text": [
            "100%|██████████| 1843/1843 [00:51<00:00, 35.54it/s]\n",
            "100%|██████████| 1844/1844 [00:21<00:00, 87.57it/s]"
          ]
        },
        {
          "output_type": "stream",
          "name": "stdout",
          "text": [
            "\n",
            "Epoch 1 score = 1.19959557056427\n",
            "\n"
          ]
        },
        {
          "output_type": "stream",
          "name": "stderr",
          "text": [
            "\n"
          ]
        }
      ],
      "source": [
        "for epoch in range(2):\n",
        "\n",
        "    # train loop\n",
        "    models.train()\n",
        "    for data in tqdm(dataloaders[\"train\"]):\n",
        "        data = batch_to_device(data, device)\n",
        "        _, loss = hook({**models, **data})\n",
        "\n",
        "    # eval loop\n",
        "    models.eval()\n",
        "    logits = []\n",
        "    with torch.no_grad():\n",
        "        for data in tqdm(dataloaders[\"target_train\"]):\n",
        "            data = batch_to_device(data, device)\n",
        "            logits.append(C(G(data[\"target_imgs\"])))\n",
        "        logits = torch.cat(logits, dim=0)\n",
        "\n",
        "    # validation score\n",
        "    score = validator(target_train={\"logits\": logits})\n",
        "    print(f\"\\nEpoch {epoch} score = {score}\\n\")"
      ]
    },
    {
      "cell_type": "code",
      "execution_count": 9,
      "id": "570a7436",
      "metadata": {
        "id": "570a7436"
      },
      "outputs": [],
      "source": [
        ""
      ]
    }
  ],
  "metadata": {
    "accelerator": "GPU",
    "kernelspec": {
      "display_name": "Python 3 (ipykernel)",
      "language": "python",
      "name": "python3"
    },
    "language_info": {
      "codemirror_mode": {
        "name": "ipython",
        "version": 3
      },
      "file_extension": ".py",
      "mimetype": "text/x-python",
      "name": "python",
      "nbconvert_exporter": "python",
      "pygments_lexer": "ipython3",
      "version": "3.9.7"
    },
    "colab": {
      "name": "DANNVanilla.ipynb",
      "provenance": []
    }
  },
  "nbformat": 4,
  "nbformat_minor": 5
}