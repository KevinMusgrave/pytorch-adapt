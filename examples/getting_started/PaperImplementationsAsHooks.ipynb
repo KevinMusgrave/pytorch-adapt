{
 "cells": [
  {
   "cell_type": "code",
   "execution_count": null,
   "id": "5c8bff82",
   "metadata": {},
   "outputs": [],
   "source": [
    "!pip install pytorch-adapt"
   ]
  },
  {
   "cell_type": "markdown",
   "id": "44abb0d8",
   "metadata": {},
   "source": [
    "### Setup"
   ]
  },
  {
   "cell_type": "code",
   "execution_count": null,
   "id": "6bb7af54",
   "metadata": {},
   "outputs": [],
   "source": [
    "import copy\n",
    "from pprint import pprint\n",
    "\n",
    "import torch\n",
    "\n",
    "from pytorch_adapt.utils import common_functions as c_f\n",
    "\n",
    "# Models\n",
    "G = torch.nn.Linear(1000, 100)\n",
    "C = torch.nn.Linear(100, 10)\n",
    "D = torch.nn.Sequential(torch.nn.Linear(100, 1), torch.nn.Flatten(start_dim=0))\n",
    "G_opt = torch.optim.Adam(G.parameters())\n",
    "C_opt = torch.optim.Adam(C.parameters())\n",
    "D_opt = torch.optim.Adam(D.parameters())\n",
    "\n",
    "dataset_size = 10000\n",
    "# 1 batch of data\n",
    "example_data = {\n",
    "    \"src_imgs\": torch.randn(32, 1000),\n",
    "    \"target_imgs\": torch.randn(32, 1000),\n",
    "    \"src_labels\": torch.randint(0, 10, size=(32,)),\n",
    "    \"src_domain\": torch.zeros(32),\n",
    "    \"target_domain\": torch.zeros(32),\n",
    "    \"src_sample_idx\": torch.randint(0, dataset_size, size=(32,)),\n",
    "    \"target_sample_idx\": torch.randint(0, dataset_size, size=(32,)),\n",
    "}\n",
    "\n",
    "\n",
    "def get_data(keys):\n",
    "    return {k: example_data[k] for k in keys}"
   ]
  },
  {
   "cell_type": "markdown",
   "id": "4535c55f",
   "metadata": {},
   "source": [
    "### [Adversarial Discriminative Domain Adaptation](https://arxiv.org/abs/1702.05464) (ADDA)"
   ]
  },
  {
   "cell_type": "code",
   "execution_count": null,
   "id": "2b65be47",
   "metadata": {},
   "outputs": [],
   "source": [
    "from pytorch_adapt.hooks import ADDAHook\n",
    "\n",
    "# make Target model\n",
    "T = copy.deepcopy(G)\n",
    "T_opt = torch.optim.Adam(T.parameters())\n",
    "hook = ADDAHook(g_opts=[T_opt], d_opts=[D_opt])\n",
    "\n",
    "models = {\"G\": G, \"C\": C, \"D\": D, \"T\": T}\n",
    "data = get_data([\"src_imgs\", \"target_imgs\", \"src_domain\", \"target_domain\"])\n",
    "losses, _ = hook({}, {**models, **data})\n",
    "pprint(losses)"
   ]
  },
  {
   "cell_type": "markdown",
   "id": "4def8c3a",
   "metadata": {},
   "source": [
    "### [Larger Norm More Transferable: An Adaptive Feature Norm Approach for Unsupervised Domain Adaptation](https://arxiv.org/abs/1811.07456) (AFN)"
   ]
  },
  {
   "cell_type": "code",
   "execution_count": null,
   "id": "398f0e2c",
   "metadata": {},
   "outputs": [],
   "source": [
    "from pytorch_adapt.hooks import AFNHook, ClassifierHook\n",
    "\n",
    "hook = ClassifierHook(opts=[G_opt, C_opt], post=[AFNHook()])\n",
    "\n",
    "models = {\"G\": G, \"C\": C}\n",
    "data = get_data([\"src_imgs\", \"target_imgs\", \"src_labels\"])\n",
    "losses, _ = hook({}, {**models, **data})\n",
    "pprint(losses)"
   ]
  },
  {
   "cell_type": "markdown",
   "id": "f40f0ba2",
   "metadata": {},
   "source": [
    "### [Domain Adaptation with Auxiliary Target Domain-Oriented Classifier](https://arxiv.org/abs/2007.04171) (ATDOC)"
   ]
  },
  {
   "cell_type": "code",
   "execution_count": null,
   "id": "e5c7648e",
   "metadata": {},
   "outputs": [],
   "source": [
    "from pytorch_adapt.hooks import ATDOCHook, ClassifierHook\n",
    "\n",
    "atdoc = ATDOCHook(dataset_size=10000, feature_dim=100, num_classes=10)\n",
    "hook = ClassifierHook(opts=[G_opt, C_opt], post=[atdoc])\n",
    "\n",
    "models = {\"G\": G, \"C\": C}\n",
    "data = get_data([\"src_imgs\", \"target_imgs\", \"src_labels\", \"target_sample_idx\"])\n",
    "losses, _ = hook({}, {**models, **data})\n",
    "pprint(losses)"
   ]
  },
  {
   "cell_type": "markdown",
   "id": "973a20f4",
   "metadata": {},
   "source": [
    "### [Towards Discriminability and Diversity: Batch Nuclear-norm Maximization under Label Insufficient Situations](https://arxiv.org/abs/2003.12237) (BNM)"
   ]
  },
  {
   "cell_type": "code",
   "execution_count": null,
   "id": "790c5a6f",
   "metadata": {},
   "outputs": [],
   "source": [
    "from pytorch_adapt.hooks import BNMHook, ClassifierHook\n",
    "\n",
    "hook = ClassifierHook(opts=[G_opt, C_opt], post=[BNMHook()])\n",
    "\n",
    "models = {\"G\": G, \"C\": C}\n",
    "data = get_data([\"src_imgs\", \"target_imgs\", \"src_labels\"])\n",
    "losses, _ = hook({}, {**models, **data})\n",
    "pprint(losses)"
   ]
  },
  {
   "cell_type": "code",
   "execution_count": null,
   "id": "0dcc1021",
   "metadata": {},
   "outputs": [],
   "source": []
  }
 ],
 "metadata": {
  "kernelspec": {
   "display_name": "Python 3 (ipykernel)",
   "language": "python",
   "name": "python3"
  },
  "language_info": {
   "codemirror_mode": {
    "name": "ipython",
    "version": 3
   },
   "file_extension": ".py",
   "mimetype": "text/x-python",
   "name": "python",
   "nbconvert_exporter": "python",
   "pygments_lexer": "ipython3",
   "version": "3.8.10"
  }
 },
 "nbformat": 4,
 "nbformat_minor": 5
}
