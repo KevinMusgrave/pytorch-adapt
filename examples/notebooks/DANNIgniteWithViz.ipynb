{
 "cells": [
  {
   "cell_type": "markdown",
   "id": "00224e65",
   "metadata": {},
   "source": [
    "### Install package"
   ]
  },
  {
   "cell_type": "code",
   "execution_count": null,
   "id": "cdd72d61",
   "metadata": {},
   "outputs": [],
   "source": [
    "!pip install pytorch-adapt[ignite] seaborn pandas umap-learn"
   ]
  },
  {
   "cell_type": "markdown",
   "id": "08cad7f4",
   "metadata": {},
   "source": [
    "### Import packages"
   ]
  },
  {
   "cell_type": "code",
   "execution_count": null,
   "id": "ae8bd4d9",
   "metadata": {},
   "outputs": [],
   "source": [
    "import logging\n",
    "\n",
    "import matplotlib.pyplot as plt\n",
    "import pandas as pd\n",
    "import seaborn as sns\n",
    "import torch\n",
    "import umap\n",
    "from ignite.engine import Events\n",
    "\n",
    "from pytorch_adapt.adapters import DANN\n",
    "from pytorch_adapt.containers import Models, Optimizers\n",
    "from pytorch_adapt.datasets import DataloaderCreator, get_mnist_mnistm\n",
    "from pytorch_adapt.frameworks.ignite import Ignite\n",
    "from pytorch_adapt.models import Discriminator, mnistC, mnistG\n",
    "from pytorch_adapt.validators import AccuracyValidator, IMValidator\n",
    "\n",
    "logging.basicConfig()\n",
    "logging.getLogger(\"pytorch-adapt\").setLevel(logging.INFO)"
   ]
  },
  {
   "cell_type": "code",
   "execution_count": null,
   "id": "843ccbbe",
   "metadata": {},
   "outputs": [],
   "source": [
    "def get_viz_fn(trainer, dc, datasets):\n",
    "    def viz(_):\n",
    "        features, domain = [], []\n",
    "\n",
    "        for x in [\"src_val\", \"target_val\"]:\n",
    "            dataloader = dc(**{x: datasets[x]})[x]\n",
    "            output = trainer.get_all_outputs(dataloader, x)\n",
    "            features.append(output[x][\"features\"])\n",
    "            domain.append(output[x][\"domain\"])\n",
    "\n",
    "        features = torch.cat(features, dim=0).cpu().numpy()\n",
    "        domain = torch.cat(domain, dim=0).cpu().numpy()\n",
    "        emb = umap.UMAP().fit_transform(features)\n",
    "\n",
    "        df = pd.DataFrame(emb).assign(domain=domain)\n",
    "        df[\"domain\"] = df[\"domain\"].replace({0: \"Source\", 1: \"Target\"})\n",
    "        sns.set_theme(style=\"white\", rc={\"figure.figsize\": (12.8, 9.6)})\n",
    "        sns.scatterplot(data=df, x=0, y=1, hue=\"domain\", s=2)\n",
    "        plt.show()\n",
    "\n",
    "    return viz"
   ]
  },
  {
   "cell_type": "markdown",
   "id": "7a230884",
   "metadata": {},
   "source": [
    "### Create datasets and dataloaders"
   ]
  },
  {
   "cell_type": "code",
   "execution_count": null,
   "id": "9bca7bd9",
   "metadata": {},
   "outputs": [],
   "source": [
    "datasets = get_mnist_mnistm([\"mnist\"], [\"mnistm\"], folder=\".\", download=True)\n",
    "dc = DataloaderCreator(batch_size=32, num_workers=2)"
   ]
  },
  {
   "cell_type": "markdown",
   "id": "1d9f26b9",
   "metadata": {},
   "source": [
    "### Create models, optimizers, hook, and validator"
   ]
  },
  {
   "cell_type": "code",
   "execution_count": null,
   "id": "b5313ca5",
   "metadata": {},
   "outputs": [],
   "source": [
    "G = mnistG(pretrained=True)\n",
    "C = mnistC(pretrained=True)\n",
    "D = Discriminator(in_size=1200, h=256)\n",
    "models = Models({\"G\": G, \"C\": C, \"D\": D})\n",
    "optimizers = Optimizers((torch.optim.Adam, {\"lr\": 0.0001}))\n",
    "\n",
    "adapter = DANN(models=models, optimizers=optimizers)\n",
    "trainer = Ignite(adapter, validator=IMValidator(), stat_getter=AccuracyValidator())"
   ]
  },
  {
   "cell_type": "markdown",
   "id": "e59b9758",
   "metadata": {},
   "source": [
    "### Attach visualization function"
   ]
  },
  {
   "cell_type": "code",
   "execution_count": null,
   "id": "adabb625",
   "metadata": {},
   "outputs": [],
   "source": [
    "viz_condition = Events.EPOCH_COMPLETED(every=2) | Events.STARTED\n",
    "viz_fn = get_viz_fn(trainer, dc, datasets)\n",
    "trainer.trainer.add_event_handler(viz_condition, viz_fn)"
   ]
  },
  {
   "cell_type": "markdown",
   "id": "7e785496",
   "metadata": {},
   "source": [
    "### Train and evaluate"
   ]
  },
  {
   "cell_type": "code",
   "execution_count": null,
   "id": "58b27d15",
   "metadata": {},
   "outputs": [],
   "source": [
    "best_score, best_epoch = trainer.run(datasets, dataloader_creator=dc, max_epochs=4)\n",
    "print(f\"best_score={best_score}, best_epoch={best_epoch}\")"
   ]
  },
  {
   "cell_type": "code",
   "execution_count": null,
   "id": "e53a940d",
   "metadata": {},
   "outputs": [],
   "source": []
  }
 ],
 "metadata": {
  "accelerator": "GPU",
  "kernelspec": {
   "display_name": "Python 3 (ipykernel)",
   "language": "python",
   "name": "python3"
  },
  "language_info": {
   "codemirror_mode": {
    "name": "ipython",
    "version": 3
   },
   "file_extension": ".py",
   "mimetype": "text/x-python",
   "name": "python",
   "nbconvert_exporter": "python",
   "pygments_lexer": "ipython3",
   "version": "3.8.10"
  }
 },
 "nbformat": 4,
 "nbformat_minor": 5
}
