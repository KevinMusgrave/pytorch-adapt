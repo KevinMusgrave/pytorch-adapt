{
 "cells": [
  {
   "cell_type": "code",
   "execution_count": null,
   "id": "cdd72d61",
   "metadata": {},
   "outputs": [],
   "source": [
    "pip install -q pytorch-adapt"
   ]
  },
  {
   "cell_type": "code",
   "execution_count": 1,
   "id": "ae8bd4d9",
   "metadata": {},
   "outputs": [
    {
     "name": "stdout",
     "output_type": "stream",
     "text": [
      "0.0.11\n"
     ]
    }
   ],
   "source": [
    "import sys\n",
    "\n",
    "sys.path.insert(0, \"../../src\")\n",
    "import torch\n",
    "import torchvision.transforms as T\n",
    "import tqdm\n",
    "from torchvision.datasets import MNIST\n",
    "\n",
    "import pytorch_adapt\n",
    "from pytorch_adapt.datasets.getters import get_mnist_mnistm\n",
    "from pytorch_adapt.hooks import DANNHook\n",
    "from pytorch_adapt.models import Classifier, Discriminator, MNISTFeatures\n",
    "from pytorch_adapt.utils.common_functions import batch_to_device\n",
    "from pytorch_adapt.utils.constants import IMAGENET_MEAN, IMAGENET_STD\n",
    "from pytorch_adapt.utils.transforms import GrayscaleToRGB\n",
    "\n",
    "print(pytorch_adapt.__version__)"
   ]
  },
  {
   "cell_type": "code",
   "execution_count": 6,
   "id": "9bca7bd9",
   "metadata": {},
   "outputs": [],
   "source": [
    "datasets = get_mnist_mnistm([\"mnist\"], [\"mnistm\"], \".\")\n",
    "dataloader = torch.utils.data.DataLoader(\n",
    "    datasets[\"train\"], batch_size=32, num_workers=2\n",
    ")"
   ]
  },
  {
   "cell_type": "code",
   "execution_count": 7,
   "id": "b5313ca5",
   "metadata": {},
   "outputs": [],
   "source": [
    "device = torch.device(\"cuda\")\n",
    "\n",
    "G = MNISTFeatures().to(device)\n",
    "C = Classifier(num_classes=10, in_size=1200, h=256).to(device)\n",
    "D = Discriminator(in_size=1200, h=256).to(device)\n",
    "models = {\"G\": G, \"C\": C, \"D\": D}\n",
    "\n",
    "G_opt = torch.optim.Adam(G.parameters(), lr=0.0001)\n",
    "C_opt = torch.optim.Adam(C.parameters(), lr=0.0001)\n",
    "D_opt = torch.optim.Adam(D.parameters(), lr=0.0001)\n",
    "opts = [G_opt, C_opt, D_opt]\n",
    "\n",
    "hook = DANNHook(opts)"
   ]
  },
  {
   "cell_type": "code",
   "execution_count": 8,
   "id": "58b27d15",
   "metadata": {},
   "outputs": [
    {
     "name": "stderr",
     "output_type": "stream",
     "text": [
      "c:\\users\\kevin\\anaconda3\\envs\\pydocs\\lib\\site-packages\\torch\\nn\\functional.py:718: UserWarning: Named tensors and all their associated APIs are an experimental feature and subject to change. Please do not use them for anything important until they are released as stable. (Triggered internally at  ..\\c10/core/TensorImpl.h:1156.)\n",
      "  return torch.max_pool2d(input, kernel_size, stride, padding, dilation, ceil_mode)\n"
     ]
    },
    {
     "name": "stdout",
     "output_type": "stream",
     "text": [
      "{'total_loss': {'src_domain_loss': 0.6505722999572754, 'target_domain_loss': 0.7259259223937988, 'c_loss': 2.3411178588867188, 'total': 1.2392053604125977}}\n"
     ]
    }
   ],
   "source": [
    "for i, data in enumerate(tqdm.tqdm(dataloader)):\n",
    "    data = batch_to_device(data, device)\n",
    "    loss, loss_components = hook({}, {**models, **data})"
   ]
  },
  {
   "cell_type": "code",
   "execution_count": null,
   "id": "9a8a72c7",
   "metadata": {},
   "outputs": [],
   "source": []
  }
 ],
 "metadata": {
  "kernelspec": {
   "display_name": "Python 3 (ipykernel)",
   "language": "python",
   "name": "python3"
  },
  "language_info": {
   "codemirror_mode": {
    "name": "ipython",
    "version": 3
   },
   "file_extension": ".py",
   "mimetype": "text/x-python",
   "name": "python",
   "nbconvert_exporter": "python",
   "pygments_lexer": "ipython3",
   "version": "3.8.11"
  }
 },
 "nbformat": 4,
 "nbformat_minor": 5
}
