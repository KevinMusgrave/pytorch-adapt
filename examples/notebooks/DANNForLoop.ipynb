{
 "cells": [
  {
   "cell_type": "code",
   "execution_count": null,
   "id": "cdd72d61",
   "metadata": {},
   "outputs": [],
   "source": [
    "pip install -q pytorch-adapt"
   ]
  },
  {
   "cell_type": "code",
   "execution_count": null,
   "id": "ae8bd4d9",
   "metadata": {},
   "outputs": [],
   "source": [
    "import sys\n",
    "\n",
    "sys.path.insert(0, \"../../src\")\n",
    "import torch\n",
    "import tqdm\n",
    "\n",
    "from pytorch_adapt.datasets.getters import get_mnist_mnistm\n",
    "from pytorch_adapt.hooks import DANNHook\n",
    "from pytorch_adapt.models import Classifier, Discriminator, MNISTFeatures\n",
    "from pytorch_adapt.utils.common_functions import batch_to_device"
   ]
  },
  {
   "cell_type": "code",
   "execution_count": null,
   "id": "9bca7bd9",
   "metadata": {},
   "outputs": [],
   "source": [
    "datasets = get_mnist_mnistm([\"mnist\"], [\"mnistm\"], folder=\".\", download=True)\n",
    "dataloader = torch.utils.data.DataLoader(\n",
    "    datasets[\"train\"], batch_size=32, num_workers=2\n",
    ")"
   ]
  },
  {
   "cell_type": "code",
   "execution_count": null,
   "id": "b5313ca5",
   "metadata": {},
   "outputs": [],
   "source": [
    "device = torch.device(\"cuda\")\n",
    "\n",
    "G = MNISTFeatures().to(device)\n",
    "C = Classifier(num_classes=10, in_size=1200, h=256).to(device)\n",
    "D = Discriminator(in_size=1200, h=256).to(device)\n",
    "models = {\"G\": G, \"C\": C, \"D\": D}\n",
    "\n",
    "G_opt = torch.optim.Adam(G.parameters(), lr=0.0001)\n",
    "C_opt = torch.optim.Adam(C.parameters(), lr=0.0001)\n",
    "D_opt = torch.optim.Adam(D.parameters(), lr=0.0001)\n",
    "opts = [G_opt, C_opt, D_opt]\n",
    "\n",
    "hook = DANNHook(opts)"
   ]
  },
  {
   "cell_type": "code",
   "execution_count": null,
   "id": "58b27d15",
   "metadata": {},
   "outputs": [],
   "source": [
    "for i, data in enumerate(tqdm.tqdm(dataloader)):\n",
    "    data = batch_to_device(data, device)\n",
    "    loss, _ = hook({}, {**models, **data})"
   ]
  },
  {
   "cell_type": "code",
   "execution_count": null,
   "id": "9a8a72c7",
   "metadata": {},
   "outputs": [],
   "source": []
  }
 ],
 "metadata": {
  "kernelspec": {
   "display_name": "Python 3 (ipykernel)",
   "language": "python",
   "name": "python3"
  },
  "language_info": {
   "codemirror_mode": {
    "name": "ipython",
    "version": 3
   },
   "file_extension": ".py",
   "mimetype": "text/x-python",
   "name": "python",
   "nbconvert_exporter": "python",
   "pygments_lexer": "ipython3",
   "version": "3.8.11"
  }
 },
 "nbformat": 4,
 "nbformat_minor": 5
}
