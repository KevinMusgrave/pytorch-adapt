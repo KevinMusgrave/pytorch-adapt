{
 "cells": [
  {
   "cell_type": "code",
   "execution_count": null,
   "id": "0d6c162d",
   "metadata": {},
   "outputs": [],
   "source": [
    "!pip install pytorch-adapt"
   ]
  },
  {
   "cell_type": "markdown",
   "id": "c4a579af",
   "metadata": {},
   "source": [
    "### Datasets Source and Target Datasets"
   ]
  },
  {
   "cell_type": "code",
   "execution_count": null,
   "id": "7e1d5e0c",
   "metadata": {},
   "outputs": [],
   "source": [
    "from torchvision.datasets import MNIST\n",
    "\n",
    "from pytorch_adapt.datasets import (\n",
    "    MNISTM,\n",
    "    CombinedSourceAndTargetDataset,\n",
    "    SourceDataset,\n",
    "    TargetDataset,\n",
    ")\n",
    "\n",
    "x = MNIST(root=\".\", train=True, transform=None, download=True)\n",
    "y = MNISTM(root=\".\", train=True, transform=None, download=True)\n",
    "# x and y return (data, label) tuples\n",
    "print(x[0])\n",
    "print(y[0])\n",
    "\n",
    "x = SourceDataset(x)\n",
    "y = TargetDataset(y)\n",
    "# x and y return dictionaries\n",
    "print(x[0])\n",
    "print(y[0])\n",
    "\n",
    "xy = CombinedSourceAndTargetDataset(x, y)\n",
    "# xy returns a dictionary\n",
    "print(xy[0])"
   ]
  },
  {
   "cell_type": "markdown",
   "id": "e5546c80",
   "metadata": {},
   "source": [
    "### Datasets Getters and DataloaderCreator"
   ]
  },
  {
   "cell_type": "code",
   "execution_count": null,
   "id": "9625dd2a",
   "metadata": {},
   "outputs": [],
   "source": [
    "from pytorch_adapt.datasets import DataloaderCreator, get_mnist_mnistm\n",
    "\n",
    "datasets = get_mnist_mnistm([\"mnist\"], [\"mnistm\"], folder=\".\")\n",
    "dc = DataloaderCreator(batch_size=128)\n",
    "dataloaders = dc(**datasets)\n",
    "\n",
    "# datasets and dataloaders are dictionaries\n",
    "print(datasets)\n",
    "print(dataloaders)"
   ]
  },
  {
   "cell_type": "code",
   "execution_count": null,
   "id": "afdcc167",
   "metadata": {},
   "outputs": [],
   "source": []
  }
 ],
 "metadata": {
  "kernelspec": {
   "display_name": "Python 3 (ipykernel)",
   "language": "python",
   "name": "python3"
  },
  "language_info": {
   "codemirror_mode": {
    "name": "ipython",
    "version": 3
   },
   "file_extension": ".py",
   "mimetype": "text/x-python",
   "name": "python",
   "nbconvert_exporter": "python",
   "pygments_lexer": "ipython3",
   "version": "3.8.10"
  }
 },
 "nbformat": 4,
 "nbformat_minor": 5
}
