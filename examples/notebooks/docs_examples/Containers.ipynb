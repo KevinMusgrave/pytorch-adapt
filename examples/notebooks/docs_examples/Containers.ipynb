{
 "cells": [
  {
   "cell_type": "code",
   "execution_count": null,
   "id": "940f8d35",
   "metadata": {},
   "outputs": [],
   "source": [
    "!pip install pytorch-adapt"
   ]
  },
  {
   "cell_type": "markdown",
   "id": "9549fc31",
   "metadata": {},
   "source": [
    "### Containers Create With"
   ]
  },
  {
   "cell_type": "code",
   "execution_count": null,
   "id": "bf6c5be6",
   "metadata": {},
   "outputs": [],
   "source": [
    "import torch\n",
    "\n",
    "from pytorch_adapt.containers import LRSchedulers, Models, Optimizers\n",
    "\n",
    "G = torch.nn.Linear(1000, 100)\n",
    "C = torch.nn.Linear(100, 10)\n",
    "D = torch.nn.Linear(100, 1)\n",
    "\n",
    "models = Models({\"G\": G, \"C\": C, \"D\": D})\n",
    "optimizers = Optimizers((torch.optim.Adam, {\"lr\": 0.456}))\n",
    "schedulers = LRSchedulers((torch.optim.lr_scheduler.ExponentialLR, {\"gamma\": 0.99}))\n",
    "\n",
    "optimizers.create_with(models)\n",
    "schedulers.create_with(optimizers)\n",
    "\n",
    "# optimizers contains an optimizer for G, C, and D\n",
    "# schedulers contains an LR scheduler for each optimizer\n",
    "\n",
    "print(models)\n",
    "print(optimizers)\n",
    "print(schedulers)"
   ]
  },
  {
   "cell_type": "markdown",
   "id": "90c9862b",
   "metadata": {},
   "source": [
    "### Containers Merge"
   ]
  },
  {
   "cell_type": "code",
   "execution_count": null,
   "id": "68d1d4c8",
   "metadata": {},
   "outputs": [],
   "source": [
    "more_models = Models({\"X\": torch.nn.Linear(20, 1)})\n",
    "models.merge(more_models)\n",
    "\n",
    "optimizers = Optimizers((torch.optim.Adam, {\"lr\": 0.456}))\n",
    "special_opt = Optimizers((torch.optim.SGD, {\"lr\": 1}), keys=[\"G\", \"X\"])\n",
    "optimizers.merge(special_opt)\n",
    "optimizers.create_with(models)\n",
    "\n",
    "# models contains G, C, D, and X\n",
    "# optimizers:\n",
    "# - the Adam optimizer with lr 0.456 for models C and D\n",
    "# - the SGD optimizer with lr 1 for models G and X\n",
    "\n",
    "print(models)\n",
    "print(optimizers)"
   ]
  },
  {
   "cell_type": "code",
   "execution_count": null,
   "id": "bf5cd0df",
   "metadata": {},
   "outputs": [],
   "source": []
  }
 ],
 "metadata": {
  "kernelspec": {
   "display_name": "Python 3 (ipykernel)",
   "language": "python",
   "name": "python3"
  },
  "language_info": {
   "codemirror_mode": {
    "name": "ipython",
    "version": 3
   },
   "file_extension": ".py",
   "mimetype": "text/x-python",
   "name": "python",
   "nbconvert_exporter": "python",
   "pygments_lexer": "ipython3",
   "version": "3.8.10"
  }
 },
 "nbformat": 4,
 "nbformat_minor": 5
}
