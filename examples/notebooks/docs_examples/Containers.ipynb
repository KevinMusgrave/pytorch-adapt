{
 "cells": [
  {
   "cell_type": "code",
   "execution_count": null,
   "id": "940f8d35",
   "metadata": {},
   "outputs": [],
   "source": [
    "!pip install pytorch-adapt"
   ]
  },
  {
   "cell_type": "markdown",
   "id": "7fed50ac",
   "metadata": {},
   "source": [
    "### Helper function for demo"
   ]
  },
  {
   "cell_type": "code",
   "execution_count": null,
   "id": "279491ff",
   "metadata": {},
   "outputs": [],
   "source": [
    "from pytorch_adapt.utils.common_functions import get_lr\n",
    "\n",
    "\n",
    "def print_optimizers_slim(optimizers):\n",
    "    for k, v in optimizers.items():\n",
    "        print(\n",
    "            f\"{k}: {v.__class__.__name__} with lr={get_lr(v)} weight_decay={v.param_groups[0]['weight_decay']}\"\n",
    "        )\n",
    "    print(\"\")"
   ]
  },
  {
   "cell_type": "markdown",
   "id": "9549fc31",
   "metadata": {},
   "source": [
    "### Containers Initialization"
   ]
  },
  {
   "cell_type": "code",
   "execution_count": null,
   "id": "bf6c5be6",
   "metadata": {},
   "outputs": [],
   "source": [
    "import torch\n",
    "\n",
    "from pytorch_adapt.containers import LRSchedulers, Models, Optimizers\n",
    "\n",
    "device = torch.device(\"cuda\")\n",
    "\n",
    "G = torch.nn.Linear(1000, 100)\n",
    "C = torch.nn.Linear(100, 10)\n",
    "D = torch.nn.Linear(100, 1)\n",
    "\n",
    "models = Models({\"G\": G, \"C\": C, \"D\": D})\n",
    "optimizers = Optimizers((torch.optim.Adam, {\"lr\": 0.456, \"weight_decay\": 0.123}))\n",
    "schedulers = LRSchedulers((torch.optim.lr_scheduler.ExponentialLR, {\"gamma\": 0.99}))"
   ]
  },
  {
   "cell_type": "markdown",
   "id": "4a1f10aa",
   "metadata": {},
   "source": [
    "### Create with"
   ]
  },
  {
   "cell_type": "code",
   "execution_count": null,
   "id": "8a05aa1b",
   "metadata": {},
   "outputs": [],
   "source": [
    "optimizers.create_with(models)\n",
    "schedulers.create_with(optimizers)\n",
    "\n",
    "print(models)\n",
    "print_optimizers_slim(optimizers)\n",
    "print(schedulers)"
   ]
  },
  {
   "cell_type": "markdown",
   "id": "90c9862b",
   "metadata": {},
   "source": [
    "### Merge"
   ]
  },
  {
   "cell_type": "code",
   "execution_count": null,
   "id": "68d1d4c8",
   "metadata": {},
   "outputs": [],
   "source": [
    "more_models = Models({\"X\": torch.nn.Linear(20, 1)})\n",
    "models.merge(more_models)\n",
    "\n",
    "optimizers = Optimizers((torch.optim.Adam, {\"lr\": 0.456}))\n",
    "special_opt = Optimizers(\n",
    "    (torch.optim.SGD, {\"lr\": 1, \"weight_decay\": 1e-5}), keys=[\"G\", \"X\"]\n",
    ")\n",
    "optimizers.merge(special_opt)\n",
    "optimizers.create_with(models)\n",
    "\n",
    "print(models)\n",
    "print_optimizers_slim(optimizers)"
   ]
  },
  {
   "cell_type": "markdown",
   "id": "e2dd98ab",
   "metadata": {},
   "source": [
    "### Delete keys"
   ]
  },
  {
   "cell_type": "code",
   "execution_count": null,
   "id": "8b0d1439",
   "metadata": {
    "scrolled": true
   },
   "outputs": [],
   "source": [
    "from pytorch_adapt.containers import DeleteKey\n",
    "\n",
    "opt1 = Optimizers((torch.optim.SGD, {\"lr\": 0.01, \"momentum\": 0.9}))\n",
    "opt2 = Optimizers((DeleteKey, {}), keys=[\"G\", \"D\"])\n",
    "opt1.merge(opt2)\n",
    "opt1.create_with(models)\n",
    "print_optimizers_slim(opt1)"
   ]
  },
  {
   "cell_type": "markdown",
   "id": "b157e78f",
   "metadata": {},
   "source": [
    "### Model Container Functions"
   ]
  },
  {
   "cell_type": "code",
   "execution_count": null,
   "id": "6a0522da",
   "metadata": {},
   "outputs": [],
   "source": [
    "models.train()\n",
    "for k, v in models.items():\n",
    "    print(k, \"training\", v.training)\n",
    "\n",
    "models.eval()\n",
    "for k, v in models.items():\n",
    "    print(k, \"training\", v.training)\n",
    "\n",
    "models.zero_grad()\n",
    "models.to(device)\n",
    "for k, v in models.items():\n",
    "    print(k, \"device\", v.weight.device)"
   ]
  },
  {
   "cell_type": "markdown",
   "id": "75fd5246",
   "metadata": {},
   "source": [
    "### Optimizer Container Functions"
   ]
  },
  {
   "cell_type": "code",
   "execution_count": null,
   "id": "01f79ba8",
   "metadata": {},
   "outputs": [],
   "source": [
    "data = torch.randn(32, 1000).to(device)\n",
    "models.to(device)\n",
    "\n",
    "for keys in [None, [\"C\"]]:\n",
    "    logits = C(G(data))\n",
    "    loss = torch.sum(logits)\n",
    "\n",
    "    # zero gradients, compute gradients, update weights\n",
    "    if keys is None:\n",
    "        optimizers.zero_back_step(loss)\n",
    "    # only apply zero_back_step to specific optimizers\n",
    "    else:\n",
    "        optimizers.zero_back_step(loss, keys=keys)"
   ]
  },
  {
   "cell_type": "markdown",
   "id": "1c6e70e3",
   "metadata": {},
   "source": [
    "### Optimizer LR Multiplier"
   ]
  },
  {
   "cell_type": "code",
   "execution_count": null,
   "id": "a8a2d37c",
   "metadata": {},
   "outputs": [],
   "source": [
    "optimizers = Optimizers(\n",
    "    (torch.optim.Adam, {\"lr\": 0.1}), multipliers={\"G\": 50, \"C\": 0.5}\n",
    ")\n",
    "optimizers.create_with(models)\n",
    "print_optimizers_slim(optimizers)"
   ]
  },
  {
   "cell_type": "code",
   "execution_count": null,
   "id": "3d18d099",
   "metadata": {},
   "outputs": [],
   "source": []
  }
 ],
 "metadata": {
  "kernelspec": {
   "display_name": "Python 3 (ipykernel)",
   "language": "python",
   "name": "python3"
  },
  "language_info": {
   "codemirror_mode": {
    "name": "ipython",
    "version": 3
   },
   "file_extension": ".py",
   "mimetype": "text/x-python",
   "name": "python",
   "nbconvert_exporter": "python",
   "pygments_lexer": "ipython3",
   "version": "3.8.10"
  }
 },
 "nbformat": 4,
 "nbformat_minor": 5
}
