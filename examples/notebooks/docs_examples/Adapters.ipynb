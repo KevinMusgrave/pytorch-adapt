{
 "cells": [
  {
   "cell_type": "code",
   "execution_count": null,
   "id": "342e9a32",
   "metadata": {},
   "outputs": [],
   "source": [
    "!pip install pytorch-adapt"
   ]
  },
  {
   "cell_type": "markdown",
   "id": "62c2c7af",
   "metadata": {},
   "source": [
    "### Adapters Initialization"
   ]
  },
  {
   "cell_type": "code",
   "execution_count": null,
   "id": "9d9667c4",
   "metadata": {},
   "outputs": [],
   "source": [
    "import torch\n",
    "\n",
    "from pytorch_adapt.adapters import DANN\n",
    "from pytorch_adapt.containers import Models\n",
    "\n",
    "G = torch.nn.Linear(1000, 100)\n",
    "C = torch.nn.Linear(100, 10)\n",
    "D = torch.nn.Sequential(torch.nn.Linear(100, 1), torch.nn.Flatten(start_dim=0))\n",
    "models = Models({\"G\": G, \"C\": C, \"D\": D})\n",
    "\n",
    "adapter = DANN(models=models)"
   ]
  },
  {
   "cell_type": "markdown",
   "id": "502b0e05",
   "metadata": {},
   "source": [
    "### Adapters Training Step"
   ]
  },
  {
   "cell_type": "code",
   "execution_count": null,
   "id": "c5902afd",
   "metadata": {},
   "outputs": [],
   "source": [
    "from pytorch_adapt.utils import common_functions as c_f\n",
    "\n",
    "device = torch.device(\"cuda\")\n",
    "adapter.models.to(device)\n",
    "\n",
    "data = {\n",
    "    \"src_imgs\": torch.randn(32, 1000),\n",
    "    \"target_imgs\": torch.randn(32, 1000),\n",
    "    \"src_labels\": torch.randint(0, 10, size=(32,)),\n",
    "    \"src_domain\": torch.zeros(32),\n",
    "    \"target_domain\": torch.zeros(32),\n",
    "}\n",
    "\n",
    "data = c_f.batch_to_device(data, device)\n",
    "loss = adapter.training_step(data)"
   ]
  },
  {
   "cell_type": "markdown",
   "id": "7b2f96f0",
   "metadata": {},
   "source": [
    "### Adapters Inference"
   ]
  },
  {
   "cell_type": "code",
   "execution_count": null,
   "id": "4a9a7f3a",
   "metadata": {},
   "outputs": [],
   "source": [
    "data = torch.randn(32, 1000).to(device)\n",
    "features, logits = adapter.inference(data)"
   ]
  },
  {
   "cell_type": "code",
   "execution_count": null,
   "id": "f751acd7",
   "metadata": {},
   "outputs": [],
   "source": []
  }
 ],
 "metadata": {
  "kernelspec": {
   "display_name": "Python 3 (ipykernel)",
   "language": "python",
   "name": "python3"
  },
  "language_info": {
   "codemirror_mode": {
    "name": "ipython",
    "version": 3
   },
   "file_extension": ".py",
   "mimetype": "text/x-python",
   "name": "python",
   "nbconvert_exporter": "python",
   "pygments_lexer": "ipython3",
   "version": "3.8.10"
  }
 },
 "nbformat": 4,
 "nbformat_minor": 5
}
