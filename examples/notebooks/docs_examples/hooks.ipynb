{
 "cells": [
  {
   "cell_type": "code",
   "execution_count": null,
   "id": "85bf6121",
   "metadata": {},
   "outputs": [],
   "source": [
    "!pip install pytorch-adapt"
   ]
  },
  {
   "cell_type": "markdown",
   "id": "12f30a44",
   "metadata": {},
   "source": [
    "### Hooks Computing Features\n",
    "\n",
    "Every hook is a callable that takes in 2 arguments that represent the current context:\n",
    "\n",
    "1. A dictionary of previously computed losses.\n",
    "2. A dictionary of everything else that has been previously computed or passed in."
   ]
  },
  {
   "cell_type": "code",
   "execution_count": null,
   "id": "5a58f4a5",
   "metadata": {},
   "outputs": [],
   "source": [
    "import torch\n",
    "\n",
    "from pytorch_adapt.hooks import FeaturesHook\n",
    "\n",
    "G = torch.nn.Linear(1000, 100)\n",
    "models = {\"G\": G}\n",
    "data = {\n",
    "    \"src_imgs\": torch.randn(32, 1000),\n",
    "    \"target_imgs\": torch.randn(32, 1000),\n",
    "}\n",
    "\n",
    "hook = FeaturesHook()\n",
    "\n",
    "losses, outputs = hook({}, {**models, **data})\n",
    "# outputs contains src_imgs_features and target_imgs_features\n",
    "print(outputs.keys())\n",
    "\n",
    "losses, outputs = hook({}, {**models, **data, **outputs})\n",
    "# outputs is empty\n",
    "print(outputs.keys())\n",
    "\n",
    "hook = FeaturesHook(detach=True)\n",
    "losses, outputs = hook({}, {**models, **data, **outputs})\n",
    "# outputs contains\n",
    "# src_imgs_features_detached and target_imgs_features_detached\n",
    "print(outputs.keys())"
   ]
  },
  {
   "cell_type": "code",
   "execution_count": null,
   "id": "213634b0",
   "metadata": {},
   "outputs": [],
   "source": []
  }
 ],
 "metadata": {
  "kernelspec": {
   "display_name": "Python 3 (ipykernel)",
   "language": "python",
   "name": "python3"
  },
  "language_info": {
   "codemirror_mode": {
    "name": "ipython",
    "version": 3
   },
   "file_extension": ".py",
   "mimetype": "text/x-python",
   "name": "python",
   "nbconvert_exporter": "python",
   "pygments_lexer": "ipython3",
   "version": "3.8.10"
  }
 },
 "nbformat": 4,
 "nbformat_minor": 5
}
