{
 "cells": [
  {
   "cell_type": "markdown",
   "id": "00224e65",
   "metadata": {},
   "source": [
    "### Install package"
   ]
  },
  {
   "cell_type": "code",
   "execution_count": null,
   "id": "cdd72d61",
   "metadata": {},
   "outputs": [],
   "source": [
    "!pip install pytorch-adapt[ignite]"
   ]
  },
  {
   "cell_type": "markdown",
   "id": "08cad7f4",
   "metadata": {},
   "source": [
    "### Import packages"
   ]
  },
  {
   "cell_type": "code",
   "execution_count": null,
   "id": "ae8bd4d9",
   "metadata": {},
   "outputs": [],
   "source": [
    "import torch\n",
    "\n",
    "from pytorch_adapt.adapters import DANN\n",
    "from pytorch_adapt.containers import Models, Optimizers\n",
    "from pytorch_adapt.datasets import DataloaderCreator, get_mnist_mnistm\n",
    "from pytorch_adapt.frameworks.ignite import Ignite\n",
    "from pytorch_adapt.models import Discriminator, mnistC, mnistG\n",
    "from pytorch_adapt.validators import EntropyDiversityValidator"
   ]
  },
  {
   "cell_type": "markdown",
   "id": "7a230884",
   "metadata": {},
   "source": [
    "### Create datasets and dataloaders"
   ]
  },
  {
   "cell_type": "code",
   "execution_count": null,
   "id": "9bca7bd9",
   "metadata": {},
   "outputs": [],
   "source": [
    "datasets = get_mnist_mnistm([\"mnist\"], [\"mnistm\"], folder=\".\", download=True)\n",
    "dc = DataloaderCreator(batch_size=32, num_workers=2)"
   ]
  },
  {
   "cell_type": "markdown",
   "id": "1d9f26b9",
   "metadata": {},
   "source": [
    "### Create models, optimizers, hook, and validator"
   ]
  },
  {
   "cell_type": "code",
   "execution_count": null,
   "id": "b5313ca5",
   "metadata": {},
   "outputs": [],
   "source": [
    "G = mnistG(pretrained=True)\n",
    "C = mnistC(pretrained=True)\n",
    "D = Discriminator(in_size=1200, h=256)\n",
    "models = Models({\"G\": G, \"C\": C, \"D\": D})\n",
    "optimizers = Optimizers((torch.optim.Adam, {\"lr\": 0.0001}))\n",
    "\n",
    "adapter = DANN(models=models, optimizers=optimizers)\n",
    "wrapped_adapter = Ignite(adapter)\n",
    "validator = EntropyDiversityValidator()"
   ]
  },
  {
   "cell_type": "markdown",
   "id": "7e785496",
   "metadata": {},
   "source": [
    "### Train and evaluate"
   ]
  },
  {
   "cell_type": "code",
   "execution_count": null,
   "id": "58b27d15",
   "metadata": {},
   "outputs": [],
   "source": [
    "wrapped_adapter.run(datasets, dataloader_creator=dc, validator=validator, max_epochs=2)"
   ]
  }
 ],
 "metadata": {
  "kernelspec": {
   "display_name": "Python 3 (ipykernel)",
   "language": "python",
   "name": "python3"
  },
  "language_info": {
   "codemirror_mode": {
    "name": "ipython",
    "version": 3
   },
   "file_extension": ".py",
   "mimetype": "text/x-python",
   "name": "python",
   "nbconvert_exporter": "python",
   "pygments_lexer": "ipython3",
   "version": "3.8.10"
  }
 },
 "nbformat": 4,
 "nbformat_minor": 5
}
