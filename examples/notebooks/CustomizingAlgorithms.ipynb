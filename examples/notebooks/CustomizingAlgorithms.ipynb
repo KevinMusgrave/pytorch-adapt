{
 "cells": [
  {
   "cell_type": "code",
   "execution_count": null,
   "id": "1588e700",
   "metadata": {},
   "outputs": [],
   "source": [
    "pip install pytorch-adapt"
   ]
  },
  {
   "cell_type": "code",
   "execution_count": null,
   "id": "cb219f12",
   "metadata": {},
   "outputs": [],
   "source": [
    "import sys\n",
    "\n",
    "sys.path.insert(0, \"../../src\")"
   ]
  },
  {
   "cell_type": "markdown",
   "id": "1e26cc1b",
   "metadata": {},
   "source": [
    "### Create models, optimizers, data etc."
   ]
  },
  {
   "cell_type": "code",
   "execution_count": null,
   "id": "11c9c78b",
   "metadata": {},
   "outputs": [],
   "source": [
    "import torch\n",
    "\n",
    "from pytorch_adapt.containers import Models, Optimizers\n",
    "from pytorch_adapt.hooks import validate_hook\n",
    "\n",
    "G = torch.nn.Linear(1000, 100)\n",
    "C = torch.nn.Linear(100, 10)\n",
    "D = torch.nn.Sequential(torch.nn.Linear(100, 1), torch.nn.Flatten(start_dim=0))\n",
    "\n",
    "models = Models({\"G\": G, \"C\": C, \"D\": D})\n",
    "optimizers = Optimizers((torch.optim.Adam, {\"lr\": 0.456}))\n",
    "optimizers.create_with(models)\n",
    "opts = list(optimizers.values())\n",
    "\n",
    "data = {\n",
    "    \"src_imgs\": torch.randn(32, 1000),\n",
    "    \"target_imgs\": torch.randn(32, 1000),\n",
    "    \"src_labels\": torch.randint(0, 10, size=(32,)),\n",
    "    \"src_domain\": torch.zeros(32),\n",
    "    \"target_domain\": torch.zeros(32),\n",
    "    \"src_sample_idx\": torch.randint(0, 10000, size=(32,)),\n",
    "    \"target_sample_idx\": torch.randint(0, 10000, size=(32,)),\n",
    "}"
   ]
  },
  {
   "cell_type": "markdown",
   "id": "b16dbf50",
   "metadata": {},
   "source": [
    "### DANN"
   ]
  },
  {
   "cell_type": "code",
   "execution_count": null,
   "id": "ac4dbf48",
   "metadata": {},
   "outputs": [],
   "source": [
    "from pytorch_adapt.hooks import DANNHook\n",
    "\n",
    "hook = DANNHook(opts)\n",
    "validate_hook(hook, list(data.keys()))\n",
    "losses, outputs = hook({}, {**models, **data})"
   ]
  },
  {
   "cell_type": "markdown",
   "id": "84fa74fd",
   "metadata": {},
   "source": [
    "### DANN + MCC + ATDOC"
   ]
  },
  {
   "cell_type": "code",
   "execution_count": null,
   "id": "a77daa99",
   "metadata": {},
   "outputs": [],
   "source": [
    "from pytorch_adapt.hooks import ATDOCHook, MCCHook\n",
    "\n",
    "mcc = MCCHook()\n",
    "atdoc = ATDOCHook(dataset_size=10000, feature_dim=100, num_classes=10)\n",
    "\n",
    "hook = DANNHook(opts, post_g=[mcc, atdoc])\n",
    "validate_hook(hook, list(data.keys()))\n",
    "losses, outputs = hook({}, {**models, **data})"
   ]
  },
  {
   "cell_type": "markdown",
   "id": "c944e724",
   "metadata": {},
   "source": [
    "### CDAN"
   ]
  },
  {
   "cell_type": "code",
   "execution_count": null,
   "id": "405957d8",
   "metadata": {},
   "outputs": [],
   "source": [
    "from pytorch_adapt.hooks import CDANHook\n",
    "from pytorch_adapt.layers import RandomizedDotProduct\n",
    "from pytorch_adapt.utils import common_functions as c_f\n",
    "\n",
    "d_opts = c_f.extract(optimizers, [\"D\"])\n",
    "g_opts = c_f.extract(optimizers, [\"G\", \"C\"])\n",
    "misc = {\"feature_combiner\": RandomizedDotProduct([100, 10], 100)}\n",
    "\n",
    "hook = CDANHook(d_opts=d_opts, g_opts=g_opts)\n",
    "validate_hook(hook, list(data.keys()))\n",
    "losses, outputs = hook({}, {**models, **misc, **data})"
   ]
  },
  {
   "cell_type": "markdown",
   "id": "51f14fe2",
   "metadata": {},
   "source": [
    "### CDAN + VAT"
   ]
  },
  {
   "cell_type": "code",
   "execution_count": null,
   "id": "025090e6",
   "metadata": {},
   "outputs": [],
   "source": [
    "from pytorch_adapt.hooks import VATHook\n",
    "\n",
    "misc[\"combined_model\"] = torch.nn.Sequential(G, C)\n",
    "hook = CDANHook(d_opts=d_opts, g_opts=g_opts, post_g=[VATHook()])\n",
    "validate_hook(hook, list(data.keys()))\n",
    "losses, outputs = hook({}, {**models, **misc, **data})"
   ]
  },
  {
   "cell_type": "markdown",
   "id": "01e2b116",
   "metadata": {},
   "source": [
    "### MCD"
   ]
  },
  {
   "cell_type": "code",
   "execution_count": null,
   "id": "79148420",
   "metadata": {},
   "outputs": [],
   "source": [
    "from pytorch_adapt.hooks import MCDHook\n",
    "from pytorch_adapt.layers import MultipleModels\n",
    "\n",
    "C = torch.nn.Linear(100, 10)\n",
    "C1, C2 = C, c_f.reinit(C)\n",
    "C = MultipleModels(C1, C2)\n",
    "models[\"C\"] = C\n",
    "\n",
    "g_opts = c_f.extract(optimizers, [\"G\"])\n",
    "c_opts = c_f.extract(optimizers, [\"C\"])\n",
    "\n",
    "hook = MCDHook(g_opts=g_opts, c_opts=c_opts)\n",
    "validate_hook(hook, list(data.keys()))\n",
    "losses, outputs = hook({}, {**models, **data})"
   ]
  },
  {
   "cell_type": "markdown",
   "id": "03ca090d",
   "metadata": {},
   "source": [
    "### MCD + AFN + MMD"
   ]
  },
  {
   "cell_type": "code",
   "execution_count": null,
   "id": "b1d27961",
   "metadata": {},
   "outputs": [],
   "source": [
    "from pytorch_adapt.hooks import AFNHook, AlignerHook\n",
    "\n",
    "hook = MCDHook(g_opts=g_opts, c_opts=c_opts, post_x=[AFNHook()], post_z=[AlignerHook()])\n",
    "validate_hook(hook, list(data.keys()))\n",
    "losses, outputs = hook({}, {**models, **data})"
   ]
  },
  {
   "cell_type": "code",
   "execution_count": null,
   "id": "8f888fa6",
   "metadata": {},
   "outputs": [],
   "source": []
  }
 ],
 "metadata": {
  "kernelspec": {
   "display_name": "Python 3 (ipykernel)",
   "language": "python",
   "name": "python3"
  },
  "language_info": {
   "codemirror_mode": {
    "name": "ipython",
    "version": 3
   },
   "file_extension": ".py",
   "mimetype": "text/x-python",
   "name": "python",
   "nbconvert_exporter": "python",
   "pygments_lexer": "ipython3",
   "version": "3.8.11"
  }
 },
 "nbformat": 4,
 "nbformat_minor": 5
}
