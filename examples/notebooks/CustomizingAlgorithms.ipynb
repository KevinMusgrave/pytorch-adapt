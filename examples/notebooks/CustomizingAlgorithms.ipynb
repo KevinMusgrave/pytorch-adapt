{
 "cells": [
  {
   "cell_type": "code",
   "execution_count": null,
   "id": "1588e700",
   "metadata": {},
   "outputs": [],
   "source": [
    "!pip install pytorch-adapt"
   ]
  },
  {
   "cell_type": "markdown",
   "id": "1e26cc1b",
   "metadata": {},
   "source": [
    "### Create models, optimizers, data etc."
   ]
  },
  {
   "cell_type": "code",
   "execution_count": null,
   "id": "11c9c78b",
   "metadata": {},
   "outputs": [],
   "source": [
    "import torch\n",
    "\n",
    "from pytorch_adapt.datasets import get_mnist_mnistm\n",
    "from pytorch_adapt.hooks import validate_hook\n",
    "from pytorch_adapt.models import Discriminator, mnistC, mnistG\n",
    "\n",
    "# mnist is the source domain\n",
    "# mnistm is the target domain\n",
    "datasets = get_mnist_mnistm([\"mnist\"], [\"mnistm\"], \".\", download=True)\n",
    "dataloader = torch.utils.data.DataLoader(\n",
    "    datasets[\"train\"], batch_size=32, num_workers=2\n",
    ")\n",
    "data = iter(dataloader).next()\n",
    "\n",
    "G = mnistG(pretrained=True)\n",
    "C = mnistC(pretrained=True)\n",
    "D = Discriminator(in_size=1200, h=256)\n",
    "models = {\"G\": G, \"C\": C, \"D\": D}\n",
    "\n",
    "G_opt = torch.optim.Adam(G.parameters(), lr=0.0001)\n",
    "C_opt = torch.optim.Adam(C.parameters(), lr=0.0001)\n",
    "D_opt = torch.optim.Adam(D.parameters(), lr=0.0001)\n",
    "opts = [G_opt, C_opt, D_opt]"
   ]
  },
  {
   "cell_type": "markdown",
   "id": "55877506",
   "metadata": {},
   "source": [
    "### Register PyTorch forward hooks for demonstration"
   ]
  },
  {
   "cell_type": "code",
   "execution_count": null,
   "id": "2c35c798",
   "metadata": {},
   "outputs": [],
   "source": [
    "def forward_count(self, *_):\n",
    "    self.count += 1\n",
    "\n",
    "\n",
    "C.register_forward_hook(forward_count)\n",
    "G.register_forward_hook(forward_count)"
   ]
  },
  {
   "cell_type": "markdown",
   "id": "62eb92ee",
   "metadata": {},
   "source": [
    "### Source Classifier"
   ]
  },
  {
   "cell_type": "code",
   "execution_count": null,
   "id": "09080c17",
   "metadata": {},
   "outputs": [],
   "source": [
    "from pytorch_adapt.hooks import ClassifierHook\n",
    "\n",
    "# Reset counts\n",
    "G.count, C.count = 0, 0\n",
    "hook = ClassifierHook(opts)\n",
    "model_counts = validate_hook(hook, list(data.keys()))\n",
    "losses, outputs = hook({}, {**models, **data})\n",
    "print(f\"Expected model counts = {dict(model_counts)}\")\n",
    "print(f\"True model counts = G: {G.count}, C: {C.count}\")\n",
    "print(losses)"
   ]
  },
  {
   "cell_type": "markdown",
   "id": "0cade585",
   "metadata": {},
   "source": [
    "### Source Classifier + BSP + BNM"
   ]
  },
  {
   "cell_type": "code",
   "execution_count": null,
   "id": "c4aa2a9f",
   "metadata": {},
   "outputs": [],
   "source": [
    "from pytorch_adapt.hooks import BNMHook, BSPHook\n",
    "from pytorch_adapt.weighters import MeanWeighter\n",
    "\n",
    "# Reset counts\n",
    "G.count, C.count = 0, 0\n",
    "weighter = MeanWeighter(weights={\"bsp_loss\": 1e-5})\n",
    "hook = ClassifierHook(opts, post=[BSPHook(), BNMHook()], weighter=weighter)\n",
    "model_counts = validate_hook(hook, list(data.keys()))\n",
    "losses, outputs = hook({}, {**models, **data})\n",
    "print(f\"Expected model counts = {dict(model_counts)}\")\n",
    "print(f\"True model counts = G: {G.count}, C: {C.count}\")\n",
    "print(losses)"
   ]
  },
  {
   "cell_type": "markdown",
   "id": "b16dbf50",
   "metadata": {},
   "source": [
    "### DANN"
   ]
  },
  {
   "cell_type": "code",
   "execution_count": null,
   "id": "ac4dbf48",
   "metadata": {},
   "outputs": [],
   "source": [
    "from pytorch_adapt.hooks import DANNHook\n",
    "\n",
    "hook = DANNHook(opts)\n",
    "validate_hook(hook, list(data.keys()))\n",
    "losses, outputs = hook({}, {**models, **data})"
   ]
  },
  {
   "cell_type": "markdown",
   "id": "84fa74fd",
   "metadata": {},
   "source": [
    "### DANN + MCC + ATDOC"
   ]
  },
  {
   "cell_type": "code",
   "execution_count": null,
   "id": "a77daa99",
   "metadata": {},
   "outputs": [],
   "source": [
    "from pytorch_adapt.hooks import ATDOCHook, MCCHook\n",
    "\n",
    "mcc = MCCHook()\n",
    "atdoc = ATDOCHook(dataset_size=len(datasets[\"train\"]), feature_dim=1200, num_classes=10)\n",
    "\n",
    "hook = DANNHook(opts, post_g=[mcc, atdoc])\n",
    "validate_hook(hook, list(data.keys()))\n",
    "losses, outputs = hook({}, {**models, **data})"
   ]
  },
  {
   "cell_type": "markdown",
   "id": "c944e724",
   "metadata": {},
   "source": [
    "### CDAN"
   ]
  },
  {
   "cell_type": "code",
   "execution_count": null,
   "id": "405957d8",
   "metadata": {},
   "outputs": [],
   "source": [
    "from pytorch_adapt.hooks import CDANHook\n",
    "from pytorch_adapt.layers import RandomizedDotProduct\n",
    "from pytorch_adapt.utils import common_functions as c_f\n",
    "\n",
    "d_opts = opts[2:]\n",
    "g_opts = opts[:2]\n",
    "misc = {\"feature_combiner\": RandomizedDotProduct([1200, 10], 1200)}\n",
    "\n",
    "hook = CDANHook(d_opts=d_opts, g_opts=g_opts)\n",
    "validate_hook(hook, list(data.keys()))\n",
    "losses, outputs = hook({}, {**models, **misc, **data})"
   ]
  },
  {
   "cell_type": "markdown",
   "id": "51f14fe2",
   "metadata": {},
   "source": [
    "### CDAN + VAT"
   ]
  },
  {
   "cell_type": "code",
   "execution_count": null,
   "id": "025090e6",
   "metadata": {},
   "outputs": [],
   "source": [
    "from pytorch_adapt.hooks import VATHook\n",
    "\n",
    "misc[\"combined_model\"] = torch.nn.Sequential(G, C)\n",
    "hook = CDANHook(d_opts=d_opts, g_opts=g_opts, post_g=[VATHook()])\n",
    "validate_hook(hook, list(data.keys()))\n",
    "losses, outputs = hook({}, {**models, **misc, **data})"
   ]
  },
  {
   "cell_type": "markdown",
   "id": "01e2b116",
   "metadata": {},
   "source": [
    "### MCD"
   ]
  },
  {
   "cell_type": "code",
   "execution_count": null,
   "id": "79148420",
   "metadata": {},
   "outputs": [],
   "source": [
    "from pytorch_adapt.hooks import MCDHook\n",
    "from pytorch_adapt.layers import MultipleModels\n",
    "\n",
    "C2 = c_f.reinit(C)\n",
    "C = MultipleModels(C, C2)\n",
    "models[\"C\"] = C\n",
    "\n",
    "g_opts = opts[0:1]\n",
    "c_opts = opts[1:2]\n",
    "\n",
    "hook = MCDHook(g_opts=g_opts, c_opts=c_opts)\n",
    "validate_hook(hook, list(data.keys()))\n",
    "losses, outputs = hook({}, {**models, **data})"
   ]
  },
  {
   "cell_type": "markdown",
   "id": "03ca090d",
   "metadata": {},
   "source": [
    "### MCD + AFN + MMD"
   ]
  },
  {
   "cell_type": "code",
   "execution_count": null,
   "id": "b1d27961",
   "metadata": {},
   "outputs": [],
   "source": [
    "from pytorch_adapt.hooks import AFNHook, AlignerHook\n",
    "\n",
    "hook = MCDHook(g_opts=g_opts, c_opts=c_opts, post_x=[AFNHook()], post_z=[AlignerHook()])\n",
    "validate_hook(hook, list(data.keys()))\n",
    "losses, outputs = hook({}, {**models, **data})"
   ]
  },
  {
   "cell_type": "code",
   "execution_count": null,
   "id": "8f888fa6",
   "metadata": {},
   "outputs": [],
   "source": []
  }
 ],
 "metadata": {
  "accelerator": "GPU",
  "kernelspec": {
   "display_name": "Python 3 (ipykernel)",
   "language": "python",
   "name": "python3"
  },
  "language_info": {
   "codemirror_mode": {
    "name": "ipython",
    "version": 3
   },
   "file_extension": ".py",
   "mimetype": "text/x-python",
   "name": "python",
   "nbconvert_exporter": "python",
   "pygments_lexer": "ipython3",
   "version": "3.8.10"
  }
 },
 "nbformat": 4,
 "nbformat_minor": 5
}
