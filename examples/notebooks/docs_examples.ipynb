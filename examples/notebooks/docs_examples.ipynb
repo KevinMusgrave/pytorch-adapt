{
 "cells": [
  {
   "cell_type": "code",
   "execution_count": null,
   "id": "521a8f3e",
   "metadata": {},
   "outputs": [],
   "source": [
    "pip install pytorch-adapt"
   ]
  },
  {
   "cell_type": "code",
   "execution_count": null,
   "id": "d6bcbeb3",
   "metadata": {},
   "outputs": [],
   "source": [
    "import sys\n",
    "\n",
    "sys.path.insert(0, \"../../src\")"
   ]
  },
  {
   "cell_type": "markdown",
   "id": "47cef3a3",
   "metadata": {},
   "source": [
    "### adapters/index.md initialization"
   ]
  },
  {
   "cell_type": "code",
   "execution_count": null,
   "id": "df15beeb",
   "metadata": {},
   "outputs": [],
   "source": [
    "import torch\n",
    "\n",
    "from pytorch_adapt.adapters import DANN\n",
    "from pytorch_adapt.containers import Models\n",
    "\n",
    "G = torch.nn.Linear(1000, 100)\n",
    "C = torch.nn.Linear(100, 10)\n",
    "D = torch.nn.Sequential(torch.nn.Linear(100, 1), torch.nn.Flatten(start_dim=0))\n",
    "models = Models({\"G\": G, \"C\": C, \"D\": D})\n",
    "\n",
    "adapter = DANN(models=models)"
   ]
  },
  {
   "cell_type": "markdown",
   "id": "e662553d",
   "metadata": {},
   "source": [
    "### adapters/index.md training step"
   ]
  },
  {
   "cell_type": "code",
   "execution_count": null,
   "id": "e913fc37",
   "metadata": {},
   "outputs": [],
   "source": [
    "device = torch.device(\"cuda\")\n",
    "adapter.models.to(device)\n",
    "\n",
    "data = {\n",
    "    \"src_imgs\": torch.randn(32, 1000),\n",
    "    \"target_imgs\": torch.randn(32, 1000),\n",
    "    \"src_labels\": torch.randint(0, 10, size=(32,)),\n",
    "    \"src_domain\": torch.zeros(32),\n",
    "    \"target_domain\": torch.zeros(32),\n",
    "}\n",
    "\n",
    "loss = adapter.training_step(data, device)"
   ]
  },
  {
   "cell_type": "markdown",
   "id": "9f9a6740",
   "metadata": {},
   "source": [
    "### adapters/index.md inference"
   ]
  },
  {
   "cell_type": "code",
   "execution_count": null,
   "id": "c78aff52",
   "metadata": {},
   "outputs": [],
   "source": [
    "data = torch.randn(32, 1000).to(device)\n",
    "features, logits = adapter.inference(data)"
   ]
  },
  {
   "cell_type": "markdown",
   "id": "26425950",
   "metadata": {},
   "source": [
    "### containers/index.md create with"
   ]
  },
  {
   "cell_type": "code",
   "execution_count": null,
   "id": "1adf644a",
   "metadata": {},
   "outputs": [],
   "source": [
    "import torch\n",
    "\n",
    "from pytorch_adapt.containers import LRSchedulers, Models, Optimizers\n",
    "\n",
    "G = torch.nn.Linear(1000, 100)\n",
    "C = torch.nn.Linear(100, 10)\n",
    "D = torch.nn.Linear(100, 1)\n",
    "\n",
    "models = Models({\"G\": G, \"C\": C, \"D\": D})\n",
    "optimizers = Optimizers((torch.optim.Adam, {\"lr\": 0.456}))\n",
    "schedulers = LRSchedulers((torch.optim.lr_scheduler.ExponentialLR, {\"gamma\": 0.99}))\n",
    "\n",
    "optimizers.create_with(models)\n",
    "schedulers.create_with(optimizers)\n",
    "\n",
    "# optimizers contains an optimizer for G, C, and D\n",
    "# schedulers contains an LR scheduler for each optimizer\n",
    "\n",
    "print(models)\n",
    "print(optimizers)\n",
    "print(schedulers)"
   ]
  },
  {
   "cell_type": "markdown",
   "id": "b76616f9",
   "metadata": {},
   "source": [
    "### containers/index.md merge"
   ]
  },
  {
   "cell_type": "code",
   "execution_count": null,
   "id": "5d427e6c",
   "metadata": {},
   "outputs": [],
   "source": [
    "more_models = Models({\"X\": torch.nn.Linear(20, 1)})\n",
    "models.merge(more_models)\n",
    "\n",
    "optimizers = Optimizers((torch.optim.Adam, {\"lr\": 0.456}))\n",
    "special_opt = Optimizers((torch.optim.SGD, {\"lr\": 1}), keys=[\"G\", \"X\"])\n",
    "optimizers.merge(special_opt)\n",
    "optimizers.create_with(models)\n",
    "\n",
    "# models contains G, C, D, and X\n",
    "# optimizers:\n",
    "# - the Adam optimizer with lr 0.456 for models C and D\n",
    "# - the SGD optimizer with lr 1 for models G and X\n",
    "\n",
    "print(models)\n",
    "print(optimizers)"
   ]
  },
  {
   "cell_type": "code",
   "execution_count": null,
   "id": "98fbe428",
   "metadata": {},
   "outputs": [],
   "source": []
  }
 ],
 "metadata": {
  "kernelspec": {
   "display_name": "Python 3 (ipykernel)",
   "language": "python",
   "name": "python3"
  },
  "language_info": {
   "codemirror_mode": {
    "name": "ipython",
    "version": 3
   },
   "file_extension": ".py",
   "mimetype": "text/x-python",
   "name": "python",
   "nbconvert_exporter": "python",
   "pygments_lexer": "ipython3",
   "version": "3.8.11"
  }
 },
 "nbformat": 4,
 "nbformat_minor": 5
}
