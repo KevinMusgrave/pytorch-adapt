{
 "cells": [
  {
   "cell_type": "code",
   "execution_count": null,
   "id": "521a8f3e",
   "metadata": {},
   "outputs": [],
   "source": [
    "pip install pytorch-adapt"
   ]
  },
  {
   "cell_type": "code",
   "execution_count": null,
   "id": "d6bcbeb3",
   "metadata": {},
   "outputs": [],
   "source": [
    "import sys\n",
    "\n",
    "sys.path.insert(0, \"../../src\")"
   ]
  },
  {
   "cell_type": "markdown",
   "id": "47cef3a3",
   "metadata": {},
   "source": [
    "### Adapters Initialization"
   ]
  },
  {
   "cell_type": "code",
   "execution_count": null,
   "id": "df15beeb",
   "metadata": {},
   "outputs": [],
   "source": [
    "import torch\n",
    "\n",
    "from pytorch_adapt.adapters import DANN\n",
    "from pytorch_adapt.containers import Models\n",
    "\n",
    "G = torch.nn.Linear(1000, 100)\n",
    "C = torch.nn.Linear(100, 10)\n",
    "D = torch.nn.Sequential(torch.nn.Linear(100, 1), torch.nn.Flatten(start_dim=0))\n",
    "models = Models({\"G\": G, \"C\": C, \"D\": D})\n",
    "\n",
    "adapter = DANN(models=models)"
   ]
  },
  {
   "cell_type": "markdown",
   "id": "e662553d",
   "metadata": {},
   "source": [
    "### Adapters Training Step"
   ]
  },
  {
   "cell_type": "code",
   "execution_count": null,
   "id": "e913fc37",
   "metadata": {},
   "outputs": [],
   "source": [
    "device = torch.device(\"cuda\")\n",
    "adapter.models.to(device)\n",
    "\n",
    "data = {\n",
    "    \"src_imgs\": torch.randn(32, 1000),\n",
    "    \"target_imgs\": torch.randn(32, 1000),\n",
    "    \"src_labels\": torch.randint(0, 10, size=(32,)),\n",
    "    \"src_domain\": torch.zeros(32),\n",
    "    \"target_domain\": torch.zeros(32),\n",
    "}\n",
    "\n",
    "loss = adapter.training_step(data, device)"
   ]
  },
  {
   "cell_type": "markdown",
   "id": "9f9a6740",
   "metadata": {},
   "source": [
    "### Adapters Inference"
   ]
  },
  {
   "cell_type": "code",
   "execution_count": null,
   "id": "c78aff52",
   "metadata": {},
   "outputs": [],
   "source": [
    "data = torch.randn(32, 1000).to(device)\n",
    "features, logits = adapter.inference(data)"
   ]
  },
  {
   "cell_type": "markdown",
   "id": "26425950",
   "metadata": {},
   "source": [
    "### Containers Create With"
   ]
  },
  {
   "cell_type": "code",
   "execution_count": null,
   "id": "1adf644a",
   "metadata": {},
   "outputs": [],
   "source": [
    "import torch\n",
    "\n",
    "from pytorch_adapt.containers import LRSchedulers, Models, Optimizers\n",
    "\n",
    "G = torch.nn.Linear(1000, 100)\n",
    "C = torch.nn.Linear(100, 10)\n",
    "D = torch.nn.Linear(100, 1)\n",
    "\n",
    "models = Models({\"G\": G, \"C\": C, \"D\": D})\n",
    "optimizers = Optimizers((torch.optim.Adam, {\"lr\": 0.456}))\n",
    "schedulers = LRSchedulers((torch.optim.lr_scheduler.ExponentialLR, {\"gamma\": 0.99}))\n",
    "\n",
    "optimizers.create_with(models)\n",
    "schedulers.create_with(optimizers)\n",
    "\n",
    "# optimizers contains an optimizer for G, C, and D\n",
    "# schedulers contains an LR scheduler for each optimizer\n",
    "\n",
    "print(models)\n",
    "print(optimizers)\n",
    "print(schedulers)"
   ]
  },
  {
   "cell_type": "markdown",
   "id": "b76616f9",
   "metadata": {},
   "source": [
    "### Containers Merge"
   ]
  },
  {
   "cell_type": "code",
   "execution_count": null,
   "id": "5d427e6c",
   "metadata": {},
   "outputs": [],
   "source": [
    "more_models = Models({\"X\": torch.nn.Linear(20, 1)})\n",
    "models.merge(more_models)\n",
    "\n",
    "optimizers = Optimizers((torch.optim.Adam, {\"lr\": 0.456}))\n",
    "special_opt = Optimizers((torch.optim.SGD, {\"lr\": 1}), keys=[\"G\", \"X\"])\n",
    "optimizers.merge(special_opt)\n",
    "optimizers.create_with(models)\n",
    "\n",
    "# models contains G, C, D, and X\n",
    "# optimizers:\n",
    "# - the Adam optimizer with lr 0.456 for models C and D\n",
    "# - the SGD optimizer with lr 1 for models G and X\n",
    "\n",
    "print(models)\n",
    "print(optimizers)"
   ]
  },
  {
   "cell_type": "markdown",
   "id": "12c21792",
   "metadata": {},
   "source": [
    "### Datasets Source and Target Datasets"
   ]
  },
  {
   "cell_type": "code",
   "execution_count": null,
   "id": "5f04d376",
   "metadata": {},
   "outputs": [],
   "source": [
    "from torchvision.datasets import MNIST\n",
    "\n",
    "from pytorch_adapt.datasets import (\n",
    "    MNISTM,\n",
    "    CombinedSourceAndTargetDataset,\n",
    "    SourceDataset,\n",
    "    TargetDataset,\n",
    ")\n",
    "\n",
    "x = MNIST(root=\".\", train=True, transform=None)\n",
    "y = MNISTM(root=\".\", train=True, transform=None)\n",
    "# x and y return (data, label) tuples\n",
    "print(x[0])\n",
    "print(y[0])\n",
    "\n",
    "x = SourceDataset(x)\n",
    "y = TargetDataset(y)\n",
    "# x and y return dictionaries\n",
    "print(x[0])\n",
    "print(y[0])\n",
    "\n",
    "xy = CombinedSourceAndTargetDataset(x, y)\n",
    "# xy returns a dictionary\n",
    "print(xy[0])"
   ]
  },
  {
   "cell_type": "markdown",
   "id": "adcc4972",
   "metadata": {},
   "source": [
    "### Datasets Getters and DataloaderCreator"
   ]
  },
  {
   "cell_type": "code",
   "execution_count": null,
   "id": "4ac80e16",
   "metadata": {},
   "outputs": [],
   "source": [
    "from pytorch_adapt.datasets import DataloaderCreator, get_mnist_mnistm\n",
    "\n",
    "datasets = get_mnist_mnistm([\"mnist\"], [\"mnistm\"], folder=\".\")\n",
    "dc = DataloaderCreator(batch_size=128)\n",
    "dataloaders = dc(**datasets)\n",
    "\n",
    "# datasets and dataloaders are dictionaries\n",
    "print(datasets)\n",
    "print(dataloaders)"
   ]
  },
  {
   "cell_type": "markdown",
   "id": "12f30a44",
   "metadata": {},
   "source": [
    "### Hooks Computing Features"
   ]
  },
  {
   "cell_type": "code",
   "execution_count": null,
   "id": "9a947b2c",
   "metadata": {},
   "outputs": [],
   "source": [
    "from pytorch_adapt.hooks import FeaturesHook\n",
    "\n",
    "G = torch.nn.Linear(1000, 100)\n",
    "models = {\"G\": G}\n",
    "data = {\n",
    "    \"src_imgs\": torch.randn(32, 1000),\n",
    "    \"target_imgs\": torch.randn(32, 1000),\n",
    "}\n",
    "\n",
    "hook = FeaturesHook()\n",
    "\n",
    "losses, outputs = hook({}, {**models, **data})\n",
    "# outputs contains src_imgs_features and target_imgs_features\n",
    "print(outputs.keys())\n",
    "\n",
    "losses, outputs = hook({}, {**models, **data, **outputs})\n",
    "# outputs is empty\n",
    "print(outputs.keys())\n",
    "\n",
    "hook = FeaturesHook(detach=True)\n",
    "losses, outputs = hook({}, {**models, **data, **outputs})\n",
    "# outputs contains\n",
    "# src_imgs_features_detached and target_imgs_features_detached\n",
    "print(outputs.keys())"
   ]
  },
  {
   "cell_type": "markdown",
   "id": "304daaec",
   "metadata": {},
   "source": [
    "### Hooks Detached Features"
   ]
  },
  {
   "cell_type": "code",
   "execution_count": null,
   "id": "fe7af26d",
   "metadata": {},
   "outputs": [],
   "source": []
  },
  {
   "cell_type": "code",
   "execution_count": null,
   "id": "75ce0e1e",
   "metadata": {},
   "outputs": [],
   "source": []
  }
 ],
 "metadata": {
  "kernelspec": {
   "display_name": "Python 3 (ipykernel)",
   "language": "python",
   "name": "python3"
  },
  "language_info": {
   "codemirror_mode": {
    "name": "ipython",
    "version": 3
   },
   "file_extension": ".py",
   "mimetype": "text/x-python",
   "name": "python",
   "nbconvert_exporter": "python",
   "pygments_lexer": "ipython3",
   "version": "3.8.11"
  }
 },
 "nbformat": 4,
 "nbformat_minor": 5
}
