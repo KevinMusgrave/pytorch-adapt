{
 "cells": [
  {
   "cell_type": "code",
   "execution_count": null,
   "id": "521a8f3e",
   "metadata": {},
   "outputs": [],
   "source": [
    "!pip install pytorch-adapt"
   ]
  },
  {
   "cell_type": "markdown",
   "id": "12f30a44",
   "metadata": {},
   "source": [
    "### Hooks Computing Features"
   ]
  },
  {
   "cell_type": "code",
   "execution_count": null,
   "id": "9a947b2c",
   "metadata": {},
   "outputs": [],
   "source": [
    "from pytorch_adapt.hooks import FeaturesHook\n",
    "\n",
    "G = torch.nn.Linear(1000, 100)\n",
    "models = {\"G\": G}\n",
    "data = {\n",
    "    \"src_imgs\": torch.randn(32, 1000),\n",
    "    \"target_imgs\": torch.randn(32, 1000),\n",
    "}\n",
    "\n",
    "hook = FeaturesHook()\n",
    "\n",
    "losses, outputs = hook({}, {**models, **data})\n",
    "# outputs contains src_imgs_features and target_imgs_features\n",
    "print(outputs.keys())\n",
    "\n",
    "losses, outputs = hook({}, {**models, **data, **outputs})\n",
    "# outputs is empty\n",
    "print(outputs.keys())\n",
    "\n",
    "hook = FeaturesHook(detach=True)\n",
    "losses, outputs = hook({}, {**models, **data, **outputs})\n",
    "# outputs contains\n",
    "# src_imgs_features_detached and target_imgs_features_detached\n",
    "print(outputs.keys())"
   ]
  },
  {
   "cell_type": "markdown",
   "id": "5d3db80d",
   "metadata": {},
   "source": [
    "### Weighters"
   ]
  },
  {
   "cell_type": "code",
   "execution_count": null,
   "id": "ee05d686",
   "metadata": {},
   "outputs": [],
   "source": [
    "import torch\n",
    "\n",
    "from pytorch_adapt.weighters import MeanWeighter\n",
    "\n",
    "weighter = MeanWeighter(weights={\"y\": 2.3})\n",
    "\n",
    "logits = torch.randn(32, 512, requires_grad=True)\n",
    "labels = torch.randint(0, 10, size=(32,))\n",
    "\n",
    "x = torch.nn.functional.cross_entropy(logits, labels)\n",
    "y = torch.norm(logits)\n",
    "\n",
    "# y will by multiplied by 2.3\n",
    "# x wasn't given a weight,\n",
    "# so it gets multiplied by the default value of 1.\n",
    "loss, components = weighter({\"x\": x, \"y\": y})\n",
    "loss.backward()"
   ]
  },
  {
   "cell_type": "code",
   "execution_count": null,
   "id": "abd70b95",
   "metadata": {},
   "outputs": [],
   "source": []
  }
 ],
 "metadata": {
  "accelerator": "GPU",
  "kernelspec": {
   "display_name": "Python 3 (ipykernel)",
   "language": "python",
   "name": "python3"
  },
  "language_info": {
   "codemirror_mode": {
    "name": "ipython",
    "version": 3
   },
   "file_extension": ".py",
   "mimetype": "text/x-python",
   "name": "python",
   "nbconvert_exporter": "python",
   "pygments_lexer": "ipython3",
   "version": "3.8.10"
  }
 },
 "nbformat": 4,
 "nbformat_minor": 5
}
