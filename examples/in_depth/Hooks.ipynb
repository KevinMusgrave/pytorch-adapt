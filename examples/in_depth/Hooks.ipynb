{
 "cells": [
  {
   "cell_type": "code",
   "execution_count": null,
   "id": "85bf6121",
   "metadata": {},
   "outputs": [],
   "source": [
    "!pip install pytorch-adapt"
   ]
  },
  {
   "cell_type": "markdown",
   "id": "12f30a44",
   "metadata": {},
   "source": [
    "### Computing Features\n",
    "\n",
    "Every hook takes in 2 arguments that represent the current context:\n",
    "\n",
    "1. A dictionary of previously computed losses.\n",
    "2. A dictionary of everything else that has been previously computed or passed in."
   ]
  },
  {
   "cell_type": "code",
   "execution_count": null,
   "id": "5a58f4a5",
   "metadata": {},
   "outputs": [],
   "source": [
    "import torch\n",
    "\n",
    "from pytorch_adapt.hooks import FeaturesHook\n",
    "\n",
    "\n",
    "def forward_count(self, *_):\n",
    "    self.count += 1\n",
    "\n",
    "\n",
    "def print_keys_and_count(inputs, outputs, G):\n",
    "    print(\"Inputs\", list(inputs.keys()))\n",
    "    print(\"Outputs\", list(outputs.keys()))\n",
    "    print(f\"G.count = {G.count}\\n\")\n",
    "\n",
    "\n",
    "G = torch.nn.Linear(1000, 100)\n",
    "G.register_forward_hook(forward_count)\n",
    "G.count = 0\n",
    "\n",
    "models = {\"G\": G}\n",
    "data = {\n",
    "    \"src_imgs\": torch.randn(32, 1000),\n",
    "    \"target_imgs\": torch.randn(32, 1000),\n",
    "}\n",
    "\n",
    "hook = FeaturesHook()\n",
    "\n",
    "inputs = data\n",
    "losses, outputs = hook({}, {**models, **inputs})\n",
    "# Outputs contains src_imgs_features and target_imgs_features.\n",
    "print_keys_and_count(inputs, outputs, G)\n",
    "\n",
    "inputs = {**data, **outputs}\n",
    "losses, outputs = hook({}, {**models, **inputs})\n",
    "# Outputs is empty because the required outputs are already in the inputs.\n",
    "# G.count remains the same because G wasn't used for anything.\n",
    "print_keys_and_count(inputs, outputs, G)\n",
    "\n",
    "hook = FeaturesHook(detach=True)\n",
    "losses, outputs = hook({}, {**models, **inputs})\n",
    "# Detached data is kept separate.\n",
    "# G.count remains the same because the existing tensors\n",
    "# were simply detached, and this requires no computation.\n",
    "print_keys_and_count(inputs, outputs, G)\n",
    "\n",
    "inputs = data\n",
    "hook = FeaturesHook(detach=True)\n",
    "losses, outputs = hook({}, {**models, **inputs})\n",
    "# G.count increases because the undetached data wasn't passed in\n",
    "# so it has to be computed\n",
    "print_keys_and_count(inputs, outputs, G)\n",
    "\n",
    "inputs = {**data, **outputs}\n",
    "hook = FeaturesHook()\n",
    "losses, outputs = hook({}, {**models, **inputs})\n",
    "# Even though detached data is passed in,\n",
    "# G.count increases because you can't get undetached data from detached data\n",
    "print_keys_and_count(inputs, outputs, G)"
   ]
  },
  {
   "cell_type": "code",
   "execution_count": null,
   "id": "213634b0",
   "metadata": {},
   "outputs": [],
   "source": []
  }
 ],
 "metadata": {
  "kernelspec": {
   "display_name": "Python 3 (ipykernel)",
   "language": "python",
   "name": "python3"
  },
  "language_info": {
   "codemirror_mode": {
    "name": "ipython",
    "version": 3
   },
   "file_extension": ".py",
   "mimetype": "text/x-python",
   "name": "python",
   "nbconvert_exporter": "python",
   "pygments_lexer": "ipython3",
   "version": "3.8.10"
  }
 },
 "nbformat": 4,
 "nbformat_minor": 5
}
