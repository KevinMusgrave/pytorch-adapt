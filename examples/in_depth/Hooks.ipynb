{
 "cells": [
  {
   "cell_type": "code",
   "execution_count": null,
   "id": "85bf6121",
   "metadata": {},
   "outputs": [],
   "source": [
    "!pip install pytorch-adapt"
   ]
  },
  {
   "cell_type": "markdown",
   "id": "64a83b07",
   "metadata": {},
   "source": [
    "### Inputs to hooks\n",
    "Every hook takes in 2 arguments that represent the current context:\n",
    "\n",
    "- A dictionary of previously computed losses.\n",
    "- A dictionary of everything else that has been previously computed or passed in."
   ]
  },
  {
   "cell_type": "markdown",
   "id": "12f30a44",
   "metadata": {},
   "source": [
    "### FeaturesHook"
   ]
  },
  {
   "cell_type": "code",
   "execution_count": null,
   "id": "5a58f4a5",
   "metadata": {},
   "outputs": [],
   "source": [
    "import torch\n",
    "\n",
    "from pytorch_adapt.hooks import FeaturesHook\n",
    "\n",
    "\n",
    "def forward_count(self, *_):\n",
    "    self.count += 1\n",
    "\n",
    "\n",
    "def print_keys_and_count(inputs, outputs, models):\n",
    "    print(\"Inputs\", list(inputs.keys()))\n",
    "    print(\"Outputs\", list(outputs.keys()))\n",
    "    for k, v in models.items():\n",
    "        print(f\"{k}.count = {v.count}\")\n",
    "    print(\"\")\n",
    "\n",
    "\n",
    "G = torch.nn.Linear(1000, 100)\n",
    "G.register_forward_hook(forward_count)\n",
    "G.count = 0\n",
    "\n",
    "models = {\"G\": G}\n",
    "data = {\n",
    "    \"src_imgs\": torch.randn(32, 1000),\n",
    "    \"target_imgs\": torch.randn(32, 1000),\n",
    "}\n",
    "\n",
    "hook = FeaturesHook()\n",
    "\n",
    "inputs = data\n",
    "losses, outputs = hook({}, {**models, **inputs})\n",
    "# Outputs contains src_imgs_features and target_imgs_features.\n",
    "print_keys_and_count(inputs, outputs, models)\n",
    "\n",
    "inputs = {**data, **outputs}\n",
    "losses, outputs = hook({}, {**models, **inputs})\n",
    "# Outputs is empty because the required outputs are already in the inputs.\n",
    "# G.count remains the same because G wasn't used for anything.\n",
    "print_keys_and_count(inputs, outputs, models)\n",
    "\n",
    "hook = FeaturesHook(detach=True)\n",
    "losses, outputs = hook({}, {**models, **inputs})\n",
    "# Detached data is kept separate.\n",
    "# G.count remains the same because the existing tensors\n",
    "# were simply detached, and this requires no computation.\n",
    "print_keys_and_count(inputs, outputs, models)\n",
    "\n",
    "inputs = data\n",
    "hook = FeaturesHook(detach=True)\n",
    "losses, outputs = hook({}, {**models, **inputs})\n",
    "# G.count increases because the undetached data wasn't passed in\n",
    "# so it has to be computed\n",
    "print_keys_and_count(inputs, outputs, models)\n",
    "\n",
    "inputs = {**data, **outputs}\n",
    "hook = FeaturesHook()\n",
    "losses, outputs = hook({}, {**models, **inputs})\n",
    "# Even though detached data is passed in,\n",
    "# G.count increases because you can't get undetached data from detached data\n",
    "print_keys_and_count(inputs, outputs, models)"
   ]
  },
  {
   "cell_type": "markdown",
   "id": "05f3d1ea",
   "metadata": {},
   "source": [
    "### LogitsHook\n",
    "\n",
    "```LogitsHook``` works the same as ```FeaturesHook```, but expects features as input."
   ]
  },
  {
   "cell_type": "code",
   "execution_count": null,
   "id": "458726af",
   "metadata": {},
   "outputs": [],
   "source": [
    "from pytorch_adapt.hooks import LogitsHook\n",
    "\n",
    "C = torch.nn.Linear(100, 10)\n",
    "C.register_forward_hook(forward_count)\n",
    "C.count = 0\n",
    "\n",
    "models = {\"C\": C}\n",
    "data = {\n",
    "    \"src_imgs_features\": torch.randn(32, 100),\n",
    "    \"target_imgs_features\": torch.randn(32, 100),\n",
    "}\n",
    "hook = LogitsHook()\n",
    "\n",
    "inputs = data\n",
    "losses, outputs = hook({}, {**models, **inputs})\n",
    "print_keys_and_count(inputs, outputs, models)"
   ]
  },
  {
   "cell_type": "markdown",
   "id": "c8257928",
   "metadata": {},
   "source": [
    "### FeaturesAndLogitsHook\n",
    "\n",
    "```FeaturesAndLogitsHook``` combines ```FeaturesHook``` and ```LogitsHook```."
   ]
  },
  {
   "cell_type": "code",
   "execution_count": null,
   "id": "0dd4ec18",
   "metadata": {},
   "outputs": [],
   "source": [
    "from pytorch_adapt.hooks import FeaturesAndLogitsHook\n",
    "\n",
    "G.count, C.count = 0, 0\n",
    "models = {\"G\": G, \"C\": C}\n",
    "data = {\n",
    "    \"src_imgs\": torch.randn(32, 1000),\n",
    "    \"target_imgs\": torch.randn(32, 1000),\n",
    "}\n",
    "hook = FeaturesAndLogitsHook()\n",
    "\n",
    "inputs = data\n",
    "losses, outputs = hook({}, {**models, **inputs})\n",
    "print_keys_and_count(inputs, outputs, models)"
   ]
  },
  {
   "cell_type": "markdown",
   "id": "3ccd7789",
   "metadata": {},
   "source": [
    "### ChainHook\n",
    "\n",
    "```ChainHook``` allows you to chain together an arbitrary number of hooks. The hooks are run sequentially, with the outputs of hook ```n``` being added to the context so that they become part of the inputs to hook ```n+1```."
   ]
  },
  {
   "cell_type": "code",
   "execution_count": null,
   "id": "a856c4a3",
   "metadata": {},
   "outputs": [],
   "source": [
    "from pytorch_adapt.hooks import ChainHook\n",
    "\n",
    "G.count, C.count = 0, 0\n",
    "hook = ChainHook(FeaturesHook(), LogitsHook())\n",
    "\n",
    "inputs = data\n",
    "losses, outputs = hook({}, {**models, **inputs})\n",
    "print_keys_and_count(inputs, outputs, models)"
   ]
  },
  {
   "cell_type": "code",
   "execution_count": null,
   "id": "28d4dd1d",
   "metadata": {},
   "outputs": [],
   "source": []
  }
 ],
 "metadata": {
  "kernelspec": {
   "display_name": "Python 3 (ipykernel)",
   "language": "python",
   "name": "python3"
  },
  "language_info": {
   "codemirror_mode": {
    "name": "ipython",
    "version": 3
   },
   "file_extension": ".py",
   "mimetype": "text/x-python",
   "name": "python",
   "nbconvert_exporter": "python",
   "pygments_lexer": "ipython3",
   "version": "3.8.10"
  }
 },
 "nbformat": 4,
 "nbformat_minor": 5
}
