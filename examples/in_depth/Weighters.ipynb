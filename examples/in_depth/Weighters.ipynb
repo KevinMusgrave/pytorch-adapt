{
 "cells": [
  {
   "cell_type": "code",
   "execution_count": null,
   "id": "cc41127d",
   "metadata": {},
   "outputs": [],
   "source": [
    "!pip install pytorch-adapt"
   ]
  },
  {
   "cell_type": "markdown",
   "id": "5d3db80d",
   "metadata": {},
   "source": [
    "### Weighters"
   ]
  },
  {
   "cell_type": "code",
   "execution_count": null,
   "id": "9dbef6ba",
   "metadata": {},
   "outputs": [],
   "source": [
    "import torch\n",
    "\n",
    "from pytorch_adapt.weighters import MeanWeighter\n",
    "\n",
    "weighter = MeanWeighter(weights={\"y\": 2.3})\n",
    "\n",
    "logits = torch.randn(32, 512, requires_grad=True)\n",
    "labels = torch.randint(0, 10, size=(32,))\n",
    "\n",
    "x = torch.nn.functional.cross_entropy(logits, labels)\n",
    "y = torch.norm(logits)\n",
    "\n",
    "# y will by multiplied by 2.3\n",
    "# x wasn't given a weight,\n",
    "# so it gets multiplied by the default value of 1.\n",
    "loss, components = weighter({\"x\": x, \"y\": y})\n",
    "loss.backward()"
   ]
  },
  {
   "cell_type": "code",
   "execution_count": null,
   "id": "14e9dbec",
   "metadata": {},
   "outputs": [],
   "source": []
  }
 ],
 "metadata": {
  "kernelspec": {
   "display_name": "Python 3 (ipykernel)",
   "language": "python",
   "name": "python3"
  },
  "language_info": {
   "codemirror_mode": {
    "name": "ipython",
    "version": 3
   },
   "file_extension": ".py",
   "mimetype": "text/x-python",
   "name": "python",
   "nbconvert_exporter": "python",
   "pygments_lexer": "ipython3",
   "version": "3.9.7"
  }
 },
 "nbformat": 4,
 "nbformat_minor": 5
}
